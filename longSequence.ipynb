{
  "nbformat": 4,
  "nbformat_minor": 0,
  "metadata": {
    "colab": {
      "name": "longSequence.ipynb",
      "provenance": [],
      "collapsed_sections": []
    },
    "kernelspec": {
      "name": "python3",
      "display_name": "Python 3"
    },
    "language_info": {
      "name": "python"
    }
  },
  "cells": [
    {
      "cell_type": "code",
      "execution_count": 1,
      "metadata": {
        "id": "5sb4D6HXU0Y0"
      },
      "outputs": [],
      "source": [
        "import torch\n",
        "import torch.optim as optim\n",
        "import numpy as np"
      ]
    },
    {
      "cell_type": "code",
      "source": [
        "torch.manual_seed(0)"
      ],
      "metadata": {
        "colab": {
          "base_uri": "https://localhost:8080/"
        },
        "id": "vka2KZQ0WnBj",
        "outputId": "496fcdd8-efc9-4968-a404-7abc21e1262e"
      },
      "execution_count": 2,
      "outputs": [
        {
          "output_type": "execute_result",
          "data": {
            "text/plain": [
              "<torch._C.Generator at 0x7f53f52ed870>"
            ]
          },
          "metadata": {},
          "execution_count": 2
        }
      ]
    },
    {
      "cell_type": "code",
      "source": [
        "sentence = (\"if you want to build a ship, don't drum up people together to \"\n",
        "            \"collect wood and don't assign them tasks and work, but rather \"\n",
        "            \"teach them to long for the endless immensity of the sea.\")"
      ],
      "metadata": {
        "id": "_HqOCA67XPKE"
      },
      "execution_count": 3,
      "outputs": []
    },
    {
      "cell_type": "code",
      "source": [
        "# make dictionary\n",
        "char_set = list(set(sentence))\n",
        "char_dic = {c: i for i, c in enumerate(char_set)}"
      ],
      "metadata": {
        "id": "j-fIqLYQXQec"
      },
      "execution_count": 4,
      "outputs": []
    },
    {
      "cell_type": "code",
      "source": [
        "# hyper parameters\n",
        "dic_size = len(char_dic)\n",
        "hidden_size = len(char_dic)\n",
        "sequence_length = 10  # Any arbitrary number\n",
        "learning_rate = 0.1"
      ],
      "metadata": {
        "id": "jTG9GKKQXS4P"
      },
      "execution_count": 6,
      "outputs": []
    },
    {
      "cell_type": "code",
      "source": [
        "# data setting\n",
        "x_data = []\n",
        "y_data = []\n",
        "\n",
        "for i in range(0, len(sentence) - sequence_length):\n",
        "    x_str = sentence[i:i + sequence_length]\n",
        "    y_str = sentence[i + 1: i + sequence_length + 1]\n",
        "    print(i, x_str, '->', y_str)\n",
        "\n",
        "    x_data.append([char_dic[c] for c in x_str])  # x str to index\n",
        "    y_data.append([char_dic[c] for c in y_str])  # y str to index\n",
        "\n",
        "x_one_hot = [np.eye(dic_size)[x] for x in x_data]"
      ],
      "metadata": {
        "colab": {
          "base_uri": "https://localhost:8080/"
        },
        "id": "6F5wq5PMXU6f",
        "outputId": "1164b584-43c3-47ad-b795-138b2ee7dcab"
      },
      "execution_count": 7,
      "outputs": [
        {
          "output_type": "stream",
          "name": "stdout",
          "text": [
            "0 if you wan -> f you want\n",
            "1 f you want ->  you want \n",
            "2  you want  -> you want t\n",
            "3 you want t -> ou want to\n",
            "4 ou want to -> u want to \n",
            "5 u want to  ->  want to b\n",
            "6  want to b -> want to bu\n",
            "7 want to bu -> ant to bui\n",
            "8 ant to bui -> nt to buil\n",
            "9 nt to buil -> t to build\n",
            "10 t to build ->  to build \n",
            "11  to build  -> to build a\n",
            "12 to build a -> o build a \n",
            "13 o build a  ->  build a s\n",
            "14  build a s -> build a sh\n",
            "15 build a sh -> uild a shi\n",
            "16 uild a shi -> ild a ship\n",
            "17 ild a ship -> ld a ship,\n",
            "18 ld a ship, -> d a ship, \n",
            "19 d a ship,  ->  a ship, d\n",
            "20  a ship, d -> a ship, do\n",
            "21 a ship, do ->  ship, don\n",
            "22  ship, don -> ship, don'\n",
            "23 ship, don' -> hip, don't\n",
            "24 hip, don't -> ip, don't \n",
            "25 ip, don't  -> p, don't d\n",
            "26 p, don't d -> , don't dr\n",
            "27 , don't dr ->  don't dru\n",
            "28  don't dru -> don't drum\n",
            "29 don't drum -> on't drum \n",
            "30 on't drum  -> n't drum u\n",
            "31 n't drum u -> 't drum up\n",
            "32 't drum up -> t drum up \n",
            "33 t drum up  ->  drum up p\n",
            "34  drum up p -> drum up pe\n",
            "35 drum up pe -> rum up peo\n",
            "36 rum up peo -> um up peop\n",
            "37 um up peop -> m up peopl\n",
            "38 m up peopl ->  up people\n",
            "39  up people -> up people \n",
            "40 up people  -> p people t\n",
            "41 p people t ->  people to\n",
            "42  people to -> people tog\n",
            "43 people tog -> eople toge\n",
            "44 eople toge -> ople toget\n",
            "45 ople toget -> ple togeth\n",
            "46 ple togeth -> le togethe\n",
            "47 le togethe -> e together\n",
            "48 e together ->  together \n",
            "49  together  -> together t\n",
            "50 together t -> ogether to\n",
            "51 ogether to -> gether to \n",
            "52 gether to  -> ether to c\n",
            "53 ether to c -> ther to co\n",
            "54 ther to co -> her to col\n",
            "55 her to col -> er to coll\n",
            "56 er to coll -> r to colle\n",
            "57 r to colle ->  to collec\n",
            "58  to collec -> to collect\n",
            "59 to collect -> o collect \n",
            "60 o collect  ->  collect w\n",
            "61  collect w -> collect wo\n",
            "62 collect wo -> ollect woo\n",
            "63 ollect woo -> llect wood\n",
            "64 llect wood -> lect wood \n",
            "65 lect wood  -> ect wood a\n",
            "66 ect wood a -> ct wood an\n",
            "67 ct wood an -> t wood and\n",
            "68 t wood and ->  wood and \n",
            "69  wood and  -> wood and d\n",
            "70 wood and d -> ood and do\n",
            "71 ood and do -> od and don\n",
            "72 od and don -> d and don'\n",
            "73 d and don' ->  and don't\n",
            "74  and don't -> and don't \n",
            "75 and don't  -> nd don't a\n",
            "76 nd don't a -> d don't as\n",
            "77 d don't as ->  don't ass\n",
            "78  don't ass -> don't assi\n",
            "79 don't assi -> on't assig\n",
            "80 on't assig -> n't assign\n",
            "81 n't assign -> 't assign \n",
            "82 't assign  -> t assign t\n",
            "83 t assign t ->  assign th\n",
            "84  assign th -> assign the\n",
            "85 assign the -> ssign them\n",
            "86 ssign them -> sign them \n",
            "87 sign them  -> ign them t\n",
            "88 ign them t -> gn them ta\n",
            "89 gn them ta -> n them tas\n",
            "90 n them tas ->  them task\n",
            "91  them task -> them tasks\n",
            "92 them tasks -> hem tasks \n",
            "93 hem tasks  -> em tasks a\n",
            "94 em tasks a -> m tasks an\n",
            "95 m tasks an ->  tasks and\n",
            "96  tasks and -> tasks and \n",
            "97 tasks and  -> asks and w\n",
            "98 asks and w -> sks and wo\n",
            "99 sks and wo -> ks and wor\n",
            "100 ks and wor -> s and work\n",
            "101 s and work ->  and work,\n",
            "102  and work, -> and work, \n",
            "103 and work,  -> nd work, b\n",
            "104 nd work, b -> d work, bu\n",
            "105 d work, bu ->  work, but\n",
            "106  work, but -> work, but \n",
            "107 work, but  -> ork, but r\n",
            "108 ork, but r -> rk, but ra\n",
            "109 rk, but ra -> k, but rat\n",
            "110 k, but rat -> , but rath\n",
            "111 , but rath ->  but rathe\n",
            "112  but rathe -> but rather\n",
            "113 but rather -> ut rather \n",
            "114 ut rather  -> t rather t\n",
            "115 t rather t ->  rather te\n",
            "116  rather te -> rather tea\n",
            "117 rather tea -> ather teac\n",
            "118 ather teac -> ther teach\n",
            "119 ther teach -> her teach \n",
            "120 her teach  -> er teach t\n",
            "121 er teach t -> r teach th\n",
            "122 r teach th ->  teach the\n",
            "123  teach the -> teach them\n",
            "124 teach them -> each them \n",
            "125 each them  -> ach them t\n",
            "126 ach them t -> ch them to\n",
            "127 ch them to -> h them to \n",
            "128 h them to  ->  them to l\n",
            "129  them to l -> them to lo\n",
            "130 them to lo -> hem to lon\n",
            "131 hem to lon -> em to long\n",
            "132 em to long -> m to long \n",
            "133 m to long  ->  to long f\n",
            "134  to long f -> to long fo\n",
            "135 to long fo -> o long for\n",
            "136 o long for ->  long for \n",
            "137  long for  -> long for t\n",
            "138 long for t -> ong for th\n",
            "139 ong for th -> ng for the\n",
            "140 ng for the -> g for the \n",
            "141 g for the  ->  for the e\n",
            "142  for the e -> for the en\n",
            "143 for the en -> or the end\n",
            "144 or the end -> r the endl\n",
            "145 r the endl ->  the endle\n",
            "146  the endle -> the endles\n",
            "147 the endles -> he endless\n",
            "148 he endless -> e endless \n",
            "149 e endless  ->  endless i\n",
            "150  endless i -> endless im\n",
            "151 endless im -> ndless imm\n",
            "152 ndless imm -> dless imme\n",
            "153 dless imme -> less immen\n",
            "154 less immen -> ess immens\n",
            "155 ess immens -> ss immensi\n",
            "156 ss immensi -> s immensit\n",
            "157 s immensit ->  immensity\n",
            "158  immensity -> immensity \n",
            "159 immensity  -> mmensity o\n",
            "160 mmensity o -> mensity of\n",
            "161 mensity of -> ensity of \n",
            "162 ensity of  -> nsity of t\n",
            "163 nsity of t -> sity of th\n",
            "164 sity of th -> ity of the\n",
            "165 ity of the -> ty of the \n",
            "166 ty of the  -> y of the s\n",
            "167 y of the s ->  of the se\n",
            "168  of the se -> of the sea\n",
            "169 of the sea -> f the sea.\n"
          ]
        }
      ]
    },
    {
      "cell_type": "code",
      "source": [
        "# transform as torch tensor variable\n",
        "X = torch.FloatTensor(x_one_hot)\n",
        "Y = torch.LongTensor(y_data)"
      ],
      "metadata": {
        "colab": {
          "base_uri": "https://localhost:8080/"
        },
        "id": "4Fq7PhtXZ2Hz",
        "outputId": "3b7d8987-13ba-47f5-de6f-5ac9b97ea28b"
      },
      "execution_count": 8,
      "outputs": [
        {
          "output_type": "stream",
          "name": "stderr",
          "text": [
            "/usr/local/lib/python3.7/dist-packages/ipykernel_launcher.py:2: UserWarning: Creating a tensor from a list of numpy.ndarrays is extremely slow. Please consider converting the list to a single numpy.ndarray with numpy.array() before converting to a tensor. (Triggered internally at  ../torch/csrc/utils/tensor_new.cpp:210.)\n",
            "  \n"
          ]
        }
      ]
    },
    {
      "cell_type": "code",
      "source": [
        "# declare RNN + FC\n",
        "class Net(torch.nn.Module):\n",
        "    def __init__(self, input_dim, hidden_dim, layers):\n",
        "        super(Net, self).__init__()\n",
        "        self.rnn = torch.nn.RNN(input_dim, hidden_dim, num_layers=layers, batch_first=True)\n",
        "        self.fc = torch.nn.Linear(hidden_dim, hidden_dim, bias=True)\n",
        "\n",
        "    def forward(self, x):\n",
        "        x, _status = self.rnn(x)\n",
        "        x = self.fc(x)\n",
        "        return x"
      ],
      "metadata": {
        "id": "uRUjoTSvZ4G6"
      },
      "execution_count": 9,
      "outputs": []
    },
    {
      "cell_type": "code",
      "source": [
        "# declare RNN + FC\n",
        "class Net(torch.nn.Module):\n",
        "    def __init__(self, input_dim, hidden_dim, layers):\n",
        "        super(Net, self).__init__()\n",
        "        self.rnn = torch.nn.RNN(input_dim, hidden_dim, num_layers=layers, batch_first=True)\n",
        "        self.fc = torch.nn.Linear(hidden_dim, hidden_dim, bias=True)\n",
        "\n",
        "    def forward(self, x):\n",
        "        x, _status = self.rnn(x)\n",
        "        x = self.fc(x)\n",
        "        return x\n",
        "\n",
        "\n",
        "net = Net(dic_size, hidden_size, 2)"
      ],
      "metadata": {
        "id": "zB-31O_sZ5Aj"
      },
      "execution_count": 10,
      "outputs": []
    },
    {
      "cell_type": "code",
      "source": [
        "# loss & optimizer setting\n",
        "criterion = torch.nn.CrossEntropyLoss()\n",
        "optimizer = optim.Adam(net.parameters(), learning_rate)"
      ],
      "metadata": {
        "id": "ATJZmqllZ6m3"
      },
      "execution_count": 11,
      "outputs": []
    },
    {
      "cell_type": "code",
      "source": [
        "# start training\n",
        "for i in range(100):\n",
        "    optimizer.zero_grad()\n",
        "    outputs = net(X)\n",
        "    loss = criterion(outputs.view(-1, dic_size), Y.view(-1))\n",
        "    loss.backward()\n",
        "    optimizer.step()\n",
        "\n",
        "    results = outputs.argmax(dim=2)\n",
        "    predict_str = \"\"\n",
        "    for j, result in enumerate(results):\n",
        "        # print(i, j, ''.join([char_set[t] for t in result]), loss.item())\n",
        "        if j == 0:\n",
        "            predict_str += ''.join([char_set[t] for t in result])\n",
        "        else:\n",
        "            predict_str += char_set[result[-1]]\n",
        "\n",
        "    print(predict_str)"
      ],
      "metadata": {
        "colab": {
          "base_uri": "https://localhost:8080/"
        },
        "id": "u_gnQudgZ7i_",
        "outputId": "99daade9-7a25-4724-eabf-29c90b60ff9b"
      },
      "execution_count": 12,
      "outputs": [
        {
          "output_type": "stream",
          "name": "stdout",
          "text": [
            "ws ,,, ,,,w w w ,w,, , ,,ww, ,,, w     ,w, ,w,, w , www w  w w ,  , , , ,, ,,   ,, w ,,,www w w ,ww,w  ,,   ,, , ,,w o,wkw  ww, , w,, ,w w ,,w  ,, ,,w w,  w,, w,,ww www  w ,w, ,w,\n",
            "                                                                                                                                                                                   \n",
            "tofrtofktttooooootoooootoottooottottooooottoottoooottootooootooottoooooottootooootoottttootoootootttooootooottooooooooottooootoottottoootooottoootoottootootttoottootooooootottotoo\n",
            "t t ote re ee ee teooe ee ee t ereeoet ee  e  e  e  e ee t  teotetee ee eeoeeote t  teet e ete re ee t reoot rt et e e re e  ee t te ee reoeer e ee etee te eeeeeeee rr oreore tt e\n",
            "                                                                                                                                                                                   \n",
            "         g                     g     g              g                            g                                                                         g                       \n",
            "t t t t u t to t u t ut t t t t t   t t t t o  t t   t e t t  toeoo ot t uost o t t t t t t t ttt  uo t t t t t t o     t s t  oot t ttt  o e t t   t t t o u t t    t t s t t o o \n",
            "t too t eoo to to ooooo to ooto to oootoooototooo to t to to  ooto to to to to oo to ooototot toto to tonooot to oo to toooto to to t to to eoooo to oooooo to toot ot to tt to tt \n",
            "t t t t et t          t t t t t t                t   t e  t   t t         o t t t t t     t t t t e t t t t t t t t t    t t t t t t  to  t t     t et t t t t e t   t     t t     \n",
            "t t   t  t et e  et e t e  e e  t  t e e  t    t et et e  t  et e  e  t  e  e ee  t    et e   t t  s  t   t   t   t e  e t t  et t  t t  et e  e  t  t e    et e  e et e   t e  s  \n",
            "      t     m  t  r     m  m    r    i    t          r    t           r       t   r     m     r t  m  t   m   r     t    m t   m t  r t   t       t    m  m  m             r    i  \n",
            "      t  t t   t  t t t t       t t  t    t   t  t   t t  t      t   tt  t    t   t     m tt  t t  t  t   t   t     t    t t   t t  t t  tt  t    t    m     t  t      t   t    m  \n",
            "o t   t  t t  to  t t t t t t   t t  t t  t      t   a t  t  ta tt   t n t    t   t t   t tt  t t  t  t   t   t t t t    t t   t t  t t  ta  t    t  t t    tt  t    o ta  t  t t  \n",
            "o t net nt t neo et t t t t t net t  t t  t  o t t  ct to t  to tt o tanet nt t oet t  et te  o t  t  t o t  't t o t  het t   o t  t t  to et n 't eo  t o t t t o ct tan t eo so \n",
            "uoeonet  t t sbo eo t t o o t net to t t  t noet to co eo t  bo eo o to stont t net tnseo et  o to so t t t s't t o t sheo to so t eo to bo eo s 't eo st t sst t o ct et et eo so \n",
            "eo   et  d t  bo eo t t d d t  et t    t  t   et t  'o eo t  bo eo o to s o d t  et t set et  o t  so t d t  't t d t sheo to co t eo t  bo eo   't eo  d d s t   o et et et eo  o \n",
            " o    t  d t  ko kd t t d d t  'tht    t  t    d t  't eo t  bo eo d to   t d t  'tht s t et  d t  s  t d t  't t d t  heo t     t e  t  bo eo   'the     d s t      t ee  the     \n",
            " o  nlt  d to eo kd t t t d t n't t    t  t    o t  kt eo t  ko to d ton    d t  'tht s t  t    t  st t d t n't t d t sneo t  ko t e  to ko lo r 'the  n  d s t      t to  t e   d \n",
            " ot nlt nd to lo ld t t i d tonlt t  s to t nsle tonlt eo to lo to d tons t i tonlt t s tn to   to  t tni ton'tht i t snlo to lo t eo tonlo lo o ltheoini d s t    i t t o the i s \n",
            " o  nlto d to eo ld tot i m tonlthto s to tonslo to loheo to lo eo m ton  and tonlthd sstoetoeo to  t t d tonl,htoi t sneo to lo theo to lo lo ooltheo ns d sst    s thdao theo sm \n",
            " maanlto d eo eoo d tnt s d tonethdo s to tansle to etheo to lo eo m eoo  tod tonethd sstneto m to st t d ton',htoi t sneo to io theo to lo eo ooetheod d d sst s  sltheao theoiss \n",
            "iotan tond to loo d tnt t i ton'thda s ao tansle tos',heo to lo ea t toos tnd ton'thd sstneto m to ct tni ton',ht i t sheo to co them toslo g ion'theodnd d sst t  scthtao theoist \n",
            "iotan tond t  boo d t t t t ton'thdo g ao t nnce thn theo th lo eo t toos tnd ton'thd sstnetoem to ct tnd ton', t i t sher to co ther to bo g tnhetheoand e s t t nscthteh theo  t \n",
            "ioten tond to bro d t t t t ton'thdo g ao t nnle ton theo to lo lo t ton  tnd ton'thd sstn toem to ct tnd ton', t t t shem to co theo to bo g tnd theodnd e sst t n ctheen theo  t \n",
            "ioten tontoto buo d t t t t ton'thd  t to tensle to  ther to lo le t too  tnd ton'thd sstn them to kt tnd ton', t t t soem to co toem to lo c tod themdnd e sst t nsctheto themd t \n",
            "soten tond to loo d tnt t d ton'thdo m to eoon e to  ther to lo le t too  tnd ton thd sstn them to st tnd ton', t t t t em to co them to lo g ior themd d e sstmm   ltheoo theme t \n",
            "soten tont to lo  d tntntst ton'thdo m to aonn e to  ther to co le t tons tnd ton'thd sstnkthem toskt tnd tonkt tet t them to so them to lo g iod themdnd e sstnm nscth en theme t \n",
            "soden wond to boa d tntnd o ton'thdo m ao aonnle th  ther to lo le t too  and ton'thd ssinethem toskt tnd won', tut t them to coethem to bo geiod themdnd e sstm  nsltheeo theme t \n",
            "soeen tond to lud d tnt d o ton'thd  m aa aen le to  ther to lo le t woo  and aon'thd ssinethem aosct tnd ton', tui t ther toaco them ao lo g ior themdnd e sstm  nslth oo themd t \n",
            "sot n toni to lui d t tnd o ton'thd  m aa a nsle to 'ther to lo le t wond and ton'thd ssin them toski tnd tonk, tui t them toacr them to lo k iod themdnd e sstmm nscth on themd t \n",
            "foton tond to lui d tntndmo ton'thdo m ao aeo le to  ther to lo le t woom and ton'thdnsstnethem toskt tnd tonk, tut t t er toacr them to lo g for themend e sstm  nsith oo themtnt \n",
            "foton eond wo lui d tntnimo ton'thdo m ao aeo le to  ther to co le t wonm fnd ton'thd sssn them toskt tnd to k, but t ther toaco them to lo g for themend e sstmm nsith on themdnt \n",
            "soton wond wo lui d tntndpo ton'thd  m ao aeo le to  the  to lo le t wood and ton'thdssssnethem tosktntnd tonk, but tuthem toacr them to lo g for the tnd e sstmm nsith oo the tnt \n",
            "shton wond to bui d tntnipm ton'thdmam aa aeo le to  them to bo lect wood and ton'thdssssn them toski tnd to k, but tathem toacr them to lo g for themend e sstmm nsith oo thement \n",
            "soton wond to ludld antnipo ton'thdm m aa aeo le to  them te lo lecd wood fnd ton'thdssisn them toskd tnd to k, but tuther teacr them to lo l for themend e sstmm nsith oo thement \n",
            "shton want to build astnipo don't dmsm ap apo le to ethem te wo lect wood and ton't dssisn them toskd tnd to k, but tuther teacr them to lo g for themtnd e sstmm nsith oo themtni \n",
            "shton wand to bui d astnipo don't do m ap apo le to ethem te co lect wood and don't dssisn them toskd tnd to k, but tuther teacr them to lo g for themtnd e sstmm nsith oo themtni \n",
            "shton want to build astnipo don't do m ap apo le to ether te lo lect wood and ton't dssisn them toski tnd to k, but tuther teacr them to lo g for themtnd e sstmm nsith oo themtni \n",
            "shton tani to luild astnip, don't do m ap apogle to ether te co lect wood and don't dnsisn them tosks tnd to k, bui tuther teach them to lo g for themtnd ensstmm ns'th oo thement \n",
            "shton wand to build astnip, don't dmsm ap ppo le to ethem te lo lect wood and don't dssisn them tosks tnd do k, bui d ther teach them to le g for themend e sstmmmnsith of themeni \n",
            "shton want to build astnip, don't do m ap aeo le th ether te co lect wood and don't dssisn them tes s tnd do k, but tuther teach them to lo g for themend ensstmmmnsith of thement \n",
            "shtoo tant to build astnip, don't doam ap ppo le to ether to lo lect wood and won't dssisn them tasks tnd wo k, bus tather teach them ta lo g for themindlesssimm nsith of themi s \n",
            "shtoo want to bui d antnip, don't do m ap peo le to ether to lo lect wood and ton't dssisn them tosks tnd do k, but tather teach them to long for the bnd ess immmnsity of themens \n",
            "shton want wo lusld astnip, don't dmum ap ppo le to ethem to lo lect wond and don't dssisn them tasks tnd do k, but tather teach them ta long for themind ess imm nsith of the i t \n",
            "mhton wond wo luild astnip, don't drum ap peoale to ether to lo lect wood and don't dssktn ther tosks tnd do k, but tather toach them to long for therendldss imm nskty of the eni \n",
            "phton want to build astnip, don't doum ap people to ether to lo lect wood and don't dssitn them tosks tnd dork, but tather toach them to long for therendless imm nskty oa themeni \n",
            "phton want to build astnip, don't aoum ap people to ether to lo lect wood fnd don't assign them tasks tnd wo k, but tather teach them ta long for the endless imm nsity of themeni \n",
            "mhton want to build astnip, don't doum ap people together te lo lect wood and don't dssign them tasks tnd do k, but tather teach them ta long for the endlesssimm nsity of the eni \n",
            "phaon want to busld astnip, don't doum ap people together to lo lect wood and don't dssign them tosks tnd do k, but tather teach them to long for the end esssimm nsity of the wnic\n",
            "peaon want to build asship, don't d um up people to ether to lo lect wood and don't dssisn them tasks tnd do k, but tather teach them to long for the e d esssimm nsity of the bsi \n",
            "phaon want to build astnip, don't aoum up people to ether to lollect wood and ton't asskgh them tosks and tork, but tather teach them to long for therend d s imm nsity of therbni \n",
            "peaou want to build asi ip, dou't drum up people to ether to lollect wood and don't dssssn them tasks and dork, but rather teach them ta long for themerd esssimmensity of themesil\n",
            "mhaon want to build anihip, don't drum up peoale together te lollect wood and don't dssign them tosks and donk, but rather teach them to lonk for therendless immensity of theninin\n",
            "shaon want to build anship, don't doum up people together te lollect wood and don't dssigh them tosks and dork, but rather teach the  to long for thenind ess imm nsity of thenihs \n",
            "p aou want wo butld ass ip, don't drum up peo lelto ether to lollect wood a d aon't dssig  them tasks and aork, but tather teach them ta long for the endless imm nsity of the e s \n",
            "seaon want to busld ass ip, don't drum up ppople sogether to collect wood andlwon't dssis  them tosks andlwo k, but tathet teach them to cong for themendless imm nsity of theme s \n",
            "shaon want to cuild tsthip, don't drum up people sogether te collect wood and won't dsskgn them tasks and wo k, but rather teach them ta long for therend ess immmnsity of there s \n",
            "shaon want to build asship, don't doum up people together to lollect wood and aon't dssign them tasks and dork, but rather toach them ta long for therendless imm nsity of there in\n",
            "s won want toubuild anthip, don't d um up people to ethe  to lollect wood and don't dssign them tasks and dork, but rather teach them ta long for the end ess imm nsity of the e in\n",
            "leaon want to luild astnip, don't doum up people together te lollect wood and don't dssign them tasks and dork, but rather teach them to long for the ind ess imm nsity of the i in\n",
            "leaou want to busld asthip, don't aoum up people together te lollect wood and don't assign them tosks and dork, but rather teach them to long for therendless immmnsity of there sn\n",
            "l aou want to busld asthip, don't drum up people together te lollect wood and don't dssign them tasks and dork, but rather teach them ta long for therendless immmnsity of there t \n",
            "lhaou want to build asthip, don't drum up people to ether te collect wood and don't dssigh them tasks and dork, but rather teach them ta long for the endless immensity of the ehtn\n",
            "mhwon want to build asthip, don't drum up people to ether te collect wood and don't dssign them tasks and dork, but rather teach them ta long for the endless immmnsity of thepi tn\n",
            "mhwon want to build asthip, don't drum up people to ether to collect wood and don't dssign them tasks and dork, but rather toach them ta cong for the endless immmnsity of the e tn\n",
            "l aou want to build ast ip, don't drum up people together to lollect wood and don't dssign them tasks and dork, but rather toach them ta long for the wndless immensity of the d t \n",
            "lhwou want to build asship, don't arum up people together te lollect wood and won't assign them tasks and work, but rather teach them ta long for the wndless immensity of therwhs \n",
            "lhwou want to build a ship, don't arum up people together te lollect wood and won't assign them tesks and work, but rather teach them te long for the ehdless immensity of the e s \n",
            "lhiou want to build a ship, don't arum up people together te lollect wood and don't assign them tasks and dork, but rather teach them ta long for the endless immensity of the ehs \n",
            "mhaou want to build a ship, don't drum up people together te lollect wood and don't assign them tasks and dork, but rather teach them ta long for the endless immensity of the i sn\n",
            "mhaou want to build a ship, don't drum up people aogether te lollect wood and don't dssign them tasks and dork, but rather teach them ta long for thepsndless immensity of theps sn\n",
            "mhaou want to build a ship, don't drum up people aogether te collect wood and don't dssign them tasks and dork, but rather teach them ta long for therendless immensity of the ihsn\n",
            "mhaou want to build a thip, don't drum up people aogether te collect wood and don't dssign them tasks and dork, but rather teach them ta long for therendless immensity of the i sn\n",
            "mhtou want to build a thip, don't drum up people together te collect wood and don't dssign them tasks and dork, but rather teach them ta long for therendless immensity of theps tn\n",
            "mhbou want to build a thip, don't arum up people together te collect wood and don't assign them tasks and dork, but rather teach them ta long for the endless immensity of theps t \n",
            "l iou want to build a ship, don't drum up people together te collect wood and don't dssign them tosks and dork, but rather toach them ta long for therendless immensity of the shsn\n",
            "lhaou want to build a ship, don't arum up people together te collect wood and won't assign them tosks and work, but rather teach them ta long for therendless immensity of the shsn\n",
            "mhiou want to build a ship, don't arum up people together te collect wood and won't assign them tasks and work, but rather teach them ta long for therendless immensity of the ihs \n",
            "meyou want to build a ship, don't arum up people together te collect wood and won't assign them tasks and work, but rather teach them ta long for the yndless immensity of the shs \n",
            "meaou want to build a ship, don't arum up people aogether te collect wood and don't assign them tosks and work, but rather teach them to long for therendless immensity of the ehi \n",
            "l aou want to build a ship, don't drum up people together to collect wood and don't dssign them tasks and dork, but rather teach them ta long for the endless immensity of the whin\n",
            "m you want to build a ship, don't arum up people together te collect wood and don't assign them tosks and dork, but rather teach them to long for the endless immensity of the shin\n",
            "mhyou want to build a ship, don't arum up people together to collect wood and don't assign them tasks and dork, but rather teach them to long for the endless immensity of the shin\n",
            "m aou want to build a ship, don't arum up people together to collect wood and don't assign them tasks and dork, but rather teach them ta long for the endless immensity of the shi \n",
            "m aou want to build a ship, don't arum up people aogether to collect wood and don't assign them tasks and dork, but rather teach them ta long for the endless immensity of the sht \n",
            "p aou want to build a ship, don't arum up people together to collect wood and don't assign them tosks and dork, but rather teach them ta long for the endless immensity of the sht \n",
            "mhaou want to build a ship, don't arum up people together to collect wood and don't assign them tosks and dork, but rather teach them ta long for the endless immensity of the d t \n",
            "t aou want to build a ship, don't arum up people together to collect wood and don't assign them tasks and dork, but rather teach them ta long for the endless immensity of the s t \n",
            "m aou want to build a ship, don't arum up people together to collect wood and don't assign them tosks and dork, but rather teach them ta long for the endless immensity of the s s \n",
            "m aou want to build a ship, don't drum up people together to collect wood and don't dssign them tosks and dork, but rather teach them ta long for the endless immensity of the s s \n",
            "p aou want to build a ship, don't arum up people together to collect wood and don't assign them tasks and dork, but rather teach them ta long for the endless immensity of the s s \n",
            "m aou want to build a ship, don't arum up people aogether to collect wood and don't assign them tasks and dork, but rather teach them ta long for the endless immensity of the s s \n",
            "p you want to build a ship, don't arum up people together to collect wood and don't assign them tasks and work, but rather teach them ta long for the endless immensity of the s s \n",
            "m you want to build a ship, don't drum up people together to collect wood and don't dssign them tosks and work, but rather teach them to long for the endless immensity of the s sn\n",
            "p aou want to build a ship, don't drum up people together to collect wood and don't dssign them tasks and work, but rather teach them ta long for the endless immensity of the s sn\n",
            "t aou want to build a ship, don't drum up people together to collect wood and don't dssign them tosks and work, but rather teach them to long for the endless immensity of the shsn\n",
            "t aou want to build a ship, don't drum up people together to collect wood and don't dssign them tosks and dork, but rather teach them to long for the endless immensity of the shin\n",
            "t aou want to build a ship, don't arum up people together to collect wood and don't assign them tasks and dork, but rather teach them ta long for the endless immensity of the shin\n",
            "t aou want to build a ship, don't arum up people together to collect wood and don't assign them tosks and dork, but rather toach them to long for the endless immensity of the shsn\n",
            "p you want to build a ship, don't arum up people together to collect wood and don't assign them tasks and dork, but rather teach them ta long for the endless immensity of the shi \n"
          ]
        }
      ]
    },
    {
      "cell_type": "code",
      "source": [
        ""
      ],
      "metadata": {
        "id": "NIa-I06yZ9Oj"
      },
      "execution_count": null,
      "outputs": []
    }
  ]
}