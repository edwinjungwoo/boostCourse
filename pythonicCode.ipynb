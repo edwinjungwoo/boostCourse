{
  "nbformat": 4,
  "nbformat_minor": 0,
  "metadata": {
    "colab": {
      "name": "pythonicCode.ipynb",
      "provenance": [],
      "collapsed_sections": []
    },
    "kernelspec": {
      "name": "python3",
      "display_name": "Python 3"
    },
    "language_info": {
      "name": "python"
    }
  },
  "cells": [
    {
      "cell_type": "markdown",
      "source": [
        "split & join"
      ],
      "metadata": {
        "id": "yC5znECNPoZK"
      }
    },
    {
      "cell_type": "code",
      "execution_count": 2,
      "metadata": {
        "colab": {
          "base_uri": "https://localhost:8080/"
        },
        "id": "EYNDA9AIMrZN",
        "outputId": "e5cf2df0-657c-4399-f58f-db7644a2c252"
      },
      "outputs": [
        {
          "output_type": "stream",
          "name": "stdout",
          "text": [
            "['zero', 'one', 'two', 'three']\n"
          ]
        }
      ],
      "source": [
        "items = 'zero one two three'.split()\n",
        "print(items)"
      ]
    },
    {
      "cell_type": "code",
      "source": [
        "example = \"teamlab.technology.io\"\n",
        "subdomain, domain, tld = example.split(\".\")\n",
        "print(subdomain)\n",
        "print(domain)\n",
        "print(tld)"
      ],
      "metadata": {
        "colab": {
          "base_uri": "https://localhost:8080/"
        },
        "id": "TmFTw4FPPwe7",
        "outputId": "7d6ac35c-791b-4773-b456-ff97e587c863"
      },
      "execution_count": 5,
      "outputs": [
        {
          "output_type": "stream",
          "name": "stdout",
          "text": [
            "teamlab\n",
            "technology\n",
            "io\n"
          ]
        }
      ]
    },
    {
      "cell_type": "code",
      "source": [
        "colors = [\"red\", \"blue\", \"green\", \"yellow\"]\n",
        "\"-\".join(colors)"
      ],
      "metadata": {
        "colab": {
          "base_uri": "https://localhost:8080/",
          "height": 35
        },
        "id": "0UI2S-2NQIWB",
        "outputId": "6cb74415-b366-40f0-e51b-a5f605211131"
      },
      "execution_count": 6,
      "outputs": [
        {
          "output_type": "execute_result",
          "data": {
            "text/plain": [
              "'red-blue-green-yellow'"
            ],
            "application/vnd.google.colaboratory.intrinsic+json": {
              "type": "string"
            }
          },
          "metadata": {},
          "execution_count": 6
        }
      ]
    },
    {
      "cell_type": "markdown",
      "source": [
        "List Comprehension"
      ],
      "metadata": {
        "id": "xptrWKykQUjm"
      }
    },
    {
      "cell_type": "code",
      "source": [
        "# GENERAL\n",
        "result = []\n",
        "for i in range(10):\n",
        "  result.append(i)\n",
        "\n",
        "result"
      ],
      "metadata": {
        "colab": {
          "base_uri": "https://localhost:8080/"
        },
        "id": "FRdzzHlcQSjv",
        "outputId": "fa791ba7-9e88-452e-a912-7f009808106a"
      },
      "execution_count": 7,
      "outputs": [
        {
          "output_type": "execute_result",
          "data": {
            "text/plain": [
              "[0, 1, 2, 3, 4, 5, 6, 7, 8, 9]"
            ]
          },
          "metadata": {},
          "execution_count": 7
        }
      ]
    },
    {
      "cell_type": "code",
      "source": [
        "# LIST COMPREHENSION\n",
        "result = [i for i in range(10)]\n",
        "result"
      ],
      "metadata": {
        "colab": {
          "base_uri": "https://localhost:8080/"
        },
        "id": "FlI91duXQky8",
        "outputId": "3c852a58-869f-4eab-c13d-1c1614044a64"
      },
      "execution_count": 8,
      "outputs": [
        {
          "output_type": "execute_result",
          "data": {
            "text/plain": [
              "[0, 1, 2, 3, 4, 5, 6, 7, 8, 9]"
            ]
          },
          "metadata": {},
          "execution_count": 8
        }
      ]
    },
    {
      "cell_type": "code",
      "source": [
        "result = [i for i in range(10) if i % 2 == 0]    # 짝수만, Fitler\n",
        "result"
      ],
      "metadata": {
        "colab": {
          "base_uri": "https://localhost:8080/"
        },
        "id": "MUpgSoNPQ4mr",
        "outputId": "28b7c18a-2b37-4928-d30c-3f49795a69fe"
      },
      "execution_count": 9,
      "outputs": [
        {
          "output_type": "execute_result",
          "data": {
            "text/plain": [
              "[0, 2, 4, 6, 8]"
            ]
          },
          "metadata": {},
          "execution_count": 9
        }
      ]
    },
    {
      "cell_type": "code",
      "source": [
        "word_1 = \"Hello\"\n",
        "word_2 = \"World\"\n",
        "result = [i+j for i in word_1 for j in word_2]    # Nested For loop\n",
        "result"
      ],
      "metadata": {
        "colab": {
          "base_uri": "https://localhost:8080/"
        },
        "id": "6KJb0LTXRB9C",
        "outputId": "e9889480-72fd-40cf-e9bc-9438cca257fc"
      },
      "execution_count": 11,
      "outputs": [
        {
          "output_type": "execute_result",
          "data": {
            "text/plain": [
              "['HW',\n",
              " 'Ho',\n",
              " 'Hr',\n",
              " 'Hl',\n",
              " 'Hd',\n",
              " 'eW',\n",
              " 'eo',\n",
              " 'er',\n",
              " 'el',\n",
              " 'ed',\n",
              " 'lW',\n",
              " 'lo',\n",
              " 'lr',\n",
              " 'll',\n",
              " 'ld',\n",
              " 'lW',\n",
              " 'lo',\n",
              " 'lr',\n",
              " 'll',\n",
              " 'ld',\n",
              " 'oW',\n",
              " 'oo',\n",
              " 'or',\n",
              " 'ol',\n",
              " 'od']"
            ]
          },
          "metadata": {},
          "execution_count": 11
        }
      ]
    },
    {
      "cell_type": "code",
      "source": [
        "case_1 = [\"A\", \"B\", \"C\"]\n",
        "case_2 = [\"D\", \"E\", \"A\"]\n",
        "result = [i+j for i in case_1 for j in case_2 if not(i==j)]    # Filter\n",
        "result.sort()\n",
        "result"
      ],
      "metadata": {
        "colab": {
          "base_uri": "https://localhost:8080/"
        },
        "id": "a1VjBABrRSBt",
        "outputId": "306ba811-f20f-40bc-d236-32db8337db5e"
      },
      "execution_count": 13,
      "outputs": [
        {
          "output_type": "execute_result",
          "data": {
            "text/plain": [
              "['AD', 'AE', 'BA', 'BD', 'BE', 'CA', 'CD', 'CE']"
            ]
          },
          "metadata": {},
          "execution_count": 13
        }
      ]
    },
    {
      "cell_type": "code",
      "source": [
        "words = 'The quick brown fox jumps over the lazy dog'.split()\n",
        "print(words)"
      ],
      "metadata": {
        "colab": {
          "base_uri": "https://localhost:8080/"
        },
        "id": "qcF-jpt8RzaV",
        "outputId": "1f2fc3a2-1d6c-4e0a-928b-43f7221140a4"
      },
      "execution_count": 15,
      "outputs": [
        {
          "output_type": "stream",
          "name": "stdout",
          "text": [
            "['The', 'quick', 'brown', 'fox', 'jumps', 'over', 'the', 'lazy', 'dog']\n"
          ]
        }
      ]
    },
    {
      "cell_type": "code",
      "source": [
        "stuff = [[w.upper(), w.lower(), len(w)] for w in words]    # Two dimentional array, for문이 먼저 작동\n",
        "for i in stuff:\n",
        "  print(i)"
      ],
      "metadata": {
        "colab": {
          "base_uri": "https://localhost:8080/"
        },
        "id": "rxDvfjS4SSgL",
        "outputId": "a101b6da-92a7-4819-c5e1-b8886837b150"
      },
      "execution_count": 17,
      "outputs": [
        {
          "output_type": "stream",
          "name": "stdout",
          "text": [
            "['THE', 'the', 3]\n",
            "['QUICK', 'quick', 5]\n",
            "['BROWN', 'brown', 5]\n",
            "['FOX', 'fox', 3]\n",
            "['JUMPS', 'jumps', 5]\n",
            "['OVER', 'over', 4]\n",
            "['THE', 'the', 3]\n",
            "['LAZY', 'lazy', 4]\n",
            "['DOG', 'dog', 3]\n"
          ]
        }
      ]
    },
    {
      "cell_type": "markdown",
      "source": [
        "enumerate & zip"
      ],
      "metadata": {
        "id": "wIbRD_9aVlQK"
      }
    },
    {
      "cell_type": "code",
      "source": [
        "# enumerate: list의 element를 추출할 때 번호를 붙여서 추출\n",
        "\n",
        "for i, v in enumerate(\"ABC\"):\n",
        "  print(\"{0} \\t {1}\".format(i, v))"
      ],
      "metadata": {
        "colab": {
          "base_uri": "https://localhost:8080/"
        },
        "id": "FlNaQNduS0e8",
        "outputId": "d660d5c8-0129-4e14-8308-107159820d1f"
      },
      "execution_count": 24,
      "outputs": [
        {
          "output_type": "stream",
          "name": "stdout",
          "text": [
            "0 \t A\n",
            "1 \t B\n",
            "2 \t C\n"
          ]
        }
      ]
    },
    {
      "cell_type": "code",
      "source": [
        "text = \"Samsung Group is a South Korean multinational conglomerate headquartered in Samsung Town Seoul.\"\n",
        "set_text = list(set(text.split()))\n",
        "{i:v.lower() for i, v in enumerate(set_text)}"
      ],
      "metadata": {
        "colab": {
          "base_uri": "https://localhost:8080/"
        },
        "id": "3uzaOOcDclV8",
        "outputId": "87c5d609-8443-405f-fcf1-08ef206e61f1"
      },
      "execution_count": 58,
      "outputs": [
        {
          "output_type": "execute_result",
          "data": {
            "text/plain": [
              "{0: 'town',\n",
              " 1: 'seoul.',\n",
              " 2: 'south',\n",
              " 3: 'a',\n",
              " 4: 'is',\n",
              " 5: 'headquartered',\n",
              " 6: 'samsung',\n",
              " 7: 'conglomerate',\n",
              " 8: 'group',\n",
              " 9: 'in',\n",
              " 10: 'multinational',\n",
              " 11: 'korean'}"
            ]
          },
          "metadata": {},
          "execution_count": 58
        }
      ]
    },
    {
      "cell_type": "code",
      "source": [
        "# zip: 두 개의 list 값을 병렬적으로 추출\n",
        "alist = ['a1', 'a2', 'a3']\n",
        "blist = ['b1', 'b2', 'b3']\n",
        "\n",
        "[ c for c in zip(alist, blist)]"
      ],
      "metadata": {
        "colab": {
          "base_uri": "https://localhost:8080/"
        },
        "id": "xFXjOiXsB7O4",
        "outputId": "3d52b144-585c-4a86-fd87-8b33771f4d36"
      },
      "execution_count": 61,
      "outputs": [
        {
          "output_type": "execute_result",
          "data": {
            "text/plain": [
              "[('a1', 'b1'), ('a2', 'b2'), ('a3', 'b3')]"
            ]
          },
          "metadata": {},
          "execution_count": 61
        }
      ]
    },
    {
      "cell_type": "code",
      "source": [
        "math = (100, 90, 80)\n",
        "kor = (90, 90, 70)\n",
        "eng = (90, 80, 70)\n",
        "\n",
        "student1, student2, student3 = [sum(value) / 3 for value in zip(math, kor, eng)]\n",
        "print(student1, student2, student3)"
      ],
      "metadata": {
        "colab": {
          "base_uri": "https://localhost:8080/"
        },
        "id": "CMqbKcPVDY_t",
        "outputId": "816b5abd-0edc-4d25-8e4e-f34c3b4326e7"
      },
      "execution_count": 64,
      "outputs": [
        {
          "output_type": "stream",
          "name": "stdout",
          "text": [
            "93.33333333333333 86.66666666666667 73.33333333333333\n"
          ]
        }
      ]
    },
    {
      "cell_type": "code",
      "source": [
        "for i, values in enumerate(zip(alist, blist)):\n",
        "  print(i, values)"
      ],
      "metadata": {
        "colab": {
          "base_uri": "https://localhost:8080/"
        },
        "id": "3EyOjAdADucj",
        "outputId": "409dbc73-81ac-4af0-e1d4-9ea546583772"
      },
      "execution_count": 65,
      "outputs": [
        {
          "output_type": "stream",
          "name": "stdout",
          "text": [
            "0 ('a1', 'b1')\n",
            "1 ('a2', 'b2')\n",
            "2 ('a3', 'b3')\n"
          ]
        }
      ]
    },
    {
      "cell_type": "markdown",
      "source": [
        "lambda & map & reduce"
      ],
      "metadata": {
        "id": "_pRj3or8EIe5"
      }
    },
    {
      "cell_type": "code",
      "source": [
        "# lambda: 익명함수\n",
        "\n",
        "(lambda x, y : x + y)(10, 50)"
      ],
      "metadata": {
        "colab": {
          "base_uri": "https://localhost:8080/"
        },
        "id": "_mWCw05LEEls",
        "outputId": "e976fa0a-0b9f-4610-c7c2-51cb4b7d9724"
      },
      "execution_count": 68,
      "outputs": [
        {
          "output_type": "execute_result",
          "data": {
            "text/plain": [
              "60"
            ]
          },
          "metadata": {},
          "execution_count": 68
        }
      ]
    },
    {
      "cell_type": "code",
      "source": [
        "up_low = lambda x : x.upper() + x.lower()\n",
        "\n",
        "up_low(\"My Happy Birthday\")"
      ],
      "metadata": {
        "colab": {
          "base_uri": "https://localhost:8080/",
          "height": 35
        },
        "id": "WfKWSDpdEj7d",
        "outputId": "c7acc514-6efc-4fd9-91b0-20a21d63aada"
      },
      "execution_count": 70,
      "outputs": [
        {
          "output_type": "execute_result",
          "data": {
            "text/plain": [
              "'MY HAPPY BIRTHDAYmy happy birthday'"
            ],
            "application/vnd.google.colaboratory.intrinsic+json": {
              "type": "string"
            }
          },
          "metadata": {},
          "execution_count": 70
        }
      ]
    },
    {
      "cell_type": "code",
      "source": [
        "# map: 시퀀스형 데이터에 함수를 각각 적용\n",
        "ex = [1, 2, 3, 4, 5]\n",
        "f = lambda x: x **2\n",
        "\n",
        "list(map(f, ex))"
      ],
      "metadata": {
        "colab": {
          "base_uri": "https://localhost:8080/"
        },
        "id": "fTyGEG17ElNR",
        "outputId": "e0ae361d-9a60-48a1-e66a-50d2444fc0d5"
      },
      "execution_count": 71,
      "outputs": [
        {
          "output_type": "execute_result",
          "data": {
            "text/plain": [
              "[1, 4, 9, 16, 25]"
            ]
          },
          "metadata": {},
          "execution_count": 71
        }
      ]
    },
    {
      "cell_type": "code",
      "source": [
        "# reduce: list에 똑같은 함수를 적용해서 통합\n",
        "from functools import reduce\n",
        "reduce(lambda x, y: x +y, [1, 2, 3, 4, 5])"
      ],
      "metadata": {
        "colab": {
          "base_uri": "https://localhost:8080/"
        },
        "id": "btcQxZwnGmm4",
        "outputId": "72ca973b-5788-4a5f-899c-476ccf78c1da"
      },
      "execution_count": 72,
      "outputs": [
        {
          "output_type": "execute_result",
          "data": {
            "text/plain": [
              "15"
            ]
          },
          "metadata": {},
          "execution_count": 72
        }
      ]
    },
    {
      "cell_type": "markdown",
      "source": [
        "function passing arguments"
      ],
      "metadata": {
        "id": "NQr1vpz0K25h"
      }
    },
    {
      "cell_type": "code",
      "source": [
        "# keyward arguments: 함수에 입력되는 parameter의 변수명을 사용\n",
        "def print_something(my_name, your_name):    # 차례 인지\n",
        "  print(\"Hello {0}, My name is {1}\".format(your_name, my_name))\n",
        "\n",
        "print_something(\"Jungwoo\", \"Everyone\")\n",
        "print_something(my_name = \"Jungwoo\", your_name = \"Everyone\")"
      ],
      "metadata": {
        "colab": {
          "base_uri": "https://localhost:8080/"
        },
        "id": "NVqIu05-H9U_",
        "outputId": "cf496413-53ed-4b55-9680-bb60f5de36ef"
      },
      "execution_count": 75,
      "outputs": [
        {
          "output_type": "stream",
          "name": "stdout",
          "text": [
            "Hello Everyone, My name is Jungwoo\n",
            "Hello Everyone, My name is Jungwoo\n"
          ]
        }
      ]
    },
    {
      "cell_type": "code",
      "source": [
        "# default argument: parameter의 기본 값을 사용, 미입력 시 기본값 출력\n",
        "def print_something(my_name, your_name = \"Everytwo\"):    # 차례 인지\n",
        "  print(\"Hello {0}, My name is {1}\".format(your_name, my_name))\n",
        "\n",
        "print_something(\"Jungwoo\")\n",
        "print_something(my_name = \"Jungwoo\", your_name = \"Everyone\")"
      ],
      "metadata": {
        "colab": {
          "base_uri": "https://localhost:8080/"
        },
        "id": "ap_bfBiVLbtc",
        "outputId": "20041610-9df4-4d4d-b0f6-58bce3b5383d"
      },
      "execution_count": 76,
      "outputs": [
        {
          "output_type": "stream",
          "name": "stdout",
          "text": [
            "Hello Everytwo, My name is Jungwoo\n",
            "Hello Everyone, My name is Jungwoo\n"
          ]
        }
      ]
    },
    {
      "cell_type": "markdown",
      "source": [
        "variable-length asterisk"
      ],
      "metadata": {
        "id": "qzhG8xi2Mvry"
      }
    },
    {
      "cell_type": "code",
      "source": [
        "def asterisk_test(a, b, *args):\n",
        "  return a+ b+ sum(args)\n",
        "\n",
        "print(asterisk_test(1, 2, 3, 4, 5))"
      ],
      "metadata": {
        "colab": {
          "base_uri": "https://localhost:8080/"
        },
        "id": "0O7WhWvxMkXB",
        "outputId": "39e60c33-390c-496d-fe5c-405bcb162948"
      },
      "execution_count": 77,
      "outputs": [
        {
          "output_type": "stream",
          "name": "stdout",
          "text": [
            "15\n"
          ]
        }
      ]
    },
    {
      "cell_type": "code",
      "source": [
        "# **kwargs: parameter 이름을 따로 지정하지 않고 입력하는 방법\n",
        "def kwargs_test_1(**kwargs):\n",
        "  print(kwargs)\n",
        "  print(type(kwargs))\n",
        "\n",
        "kwargs_test_1(first=3, second=4, third=5, c=10, d=9)"
      ],
      "metadata": {
        "colab": {
          "base_uri": "https://localhost:8080/"
        },
        "id": "2GqJ2Si7N1Ld",
        "outputId": "a443588b-d73c-4ff8-a4f9-9113eaba11f9"
      },
      "execution_count": 82,
      "outputs": [
        {
          "output_type": "stream",
          "name": "stdout",
          "text": [
            "{'first': 3, 'second': 4, 'third': 5, 'c': 10, 'd': 9}\n",
            "<class 'dict'>\n"
          ]
        }
      ]
    },
    {
      "cell_type": "code",
      "source": [
        "# parameters, args, kwargs 순서\n",
        "def kwargs_test_3(one, two=3, *args, **kwargs):\n",
        "  print(one + two + sum(args))\n",
        "  print(args)\n",
        "  print(kwargs)\n",
        "\n",
        "kwargs_test_3(10,    30,    3,5,6,7,8,    first=3, second=4, third=5)"
      ],
      "metadata": {
        "colab": {
          "base_uri": "https://localhost:8080/"
        },
        "id": "o8jOXyQjOyhB",
        "outputId": "9fc9cd13-2a73-400d-f6e4-452ca5e99279"
      },
      "execution_count": 83,
      "outputs": [
        {
          "output_type": "stream",
          "name": "stdout",
          "text": [
            "69\n",
            "(3, 5, 6, 7, 8)\n",
            "{'first': 3, 'second': 4, 'third': 5}\n"
          ]
        }
      ]
    },
    {
      "cell_type": "code",
      "source": [
        ""
      ],
      "metadata": {
        "id": "i8N-FKf9R0tq"
      },
      "execution_count": null,
      "outputs": []
    }
  ]
}