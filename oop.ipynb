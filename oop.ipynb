{
  "nbformat": 4,
  "nbformat_minor": 0,
  "metadata": {
    "colab": {
      "name": "oop.ipynb",
      "provenance": [],
      "collapsed_sections": []
    },
    "kernelspec": {
      "name": "python3",
      "display_name": "Python 3"
    },
    "language_info": {
      "name": "python"
    }
  },
  "cells": [
    {
      "cell_type": "code",
      "execution_count": 27,
      "metadata": {
        "id": "jZndaJC2fN6Q"
      },
      "outputs": [],
      "source": [
        "# class 선언하기\n",
        "\n",
        "class SoccerPlayer(object):\n",
        "  def __init__(self, name, position, back_number):    # 속성 정보, self는 instance 자신!!!\n",
        "    self.name = name\n",
        "    self.position = position\n",
        "    self.back_number = back_number\n",
        "\n",
        "  def change_back_number(self, new_number):    # 함수명(self, parameters)\n",
        "    print(\"선수의 등번호를 변경합니다 : From {} to {}\".format(self.back_number, new_number))\n",
        "    self.back_number = new_number\n",
        "\n",
        "  def __str__(self):    # print(객체)하면 출력\n",
        "    return \"Hello, My name is {} and I play {} with {} on my back.\".format(self.name, self.position, self.back_number)\n",
        "\n",
        "  def __add__(self, other):\n",
        "    return self.name + other.name\n"
      ]
    },
    {
      "cell_type": "code",
      "source": [
        "HMS = SoccerPlayer(\"Son\", \"FW\", 7)\n",
        "JSP = SoccerPlayer(\"Park\", \"MF\", 13)"
      ],
      "metadata": {
        "id": "qW-n9YsInAJR"
      },
      "execution_count": 28,
      "outputs": []
    },
    {
      "cell_type": "code",
      "source": [
        "JSP.change_back_number(10)"
      ],
      "metadata": {
        "colab": {
          "base_uri": "https://localhost:8080/"
        },
        "id": "OsmJHz5jo1jw",
        "outputId": "80604948-008a-4883-d083-ea6a0fdbf9c2"
      },
      "execution_count": 29,
      "outputs": [
        {
          "output_type": "stream",
          "name": "stdout",
          "text": [
            "선수의 등번호를 변경합니다 : From 13 to 10\n"
          ]
        }
      ]
    },
    {
      "cell_type": "code",
      "source": [
        "JSP.back_number"
      ],
      "metadata": {
        "colab": {
          "base_uri": "https://localhost:8080/"
        },
        "id": "pRg8dhhkpn3t",
        "outputId": "5e29da27-28b6-4d75-e1ea-5cee6db74544"
      },
      "execution_count": 30,
      "outputs": [
        {
          "output_type": "execute_result",
          "data": {
            "text/plain": [
              "10"
            ]
          },
          "metadata": {},
          "execution_count": 30
        }
      ]
    },
    {
      "cell_type": "code",
      "source": [
        "print(HMS)"
      ],
      "metadata": {
        "colab": {
          "base_uri": "https://localhost:8080/"
        },
        "id": "abXYJSNJn7Lq",
        "outputId": "12bcc2fb-290e-4c7d-d99c-e8cd0c055e91"
      },
      "execution_count": 31,
      "outputs": [
        {
          "output_type": "stream",
          "name": "stdout",
          "text": [
            "Hello, My name is Son and I play FW with 7 on my back.\n"
          ]
        }
      ]
    },
    {
      "cell_type": "code",
      "source": [
        "HMS + JSP"
      ],
      "metadata": {
        "colab": {
          "base_uri": "https://localhost:8080/",
          "height": 35
        },
        "id": "uOFglpNjoj0Y",
        "outputId": "22892370-c82e-4122-ada6-ef40cdc83331"
      },
      "execution_count": 32,
      "outputs": [
        {
          "output_type": "execute_result",
          "data": {
            "text/plain": [
              "'SonPark'"
            ],
            "application/vnd.google.colaboratory.intrinsic+json": {
              "type": "string"
            }
          },
          "metadata": {},
          "execution_count": 32
        }
      ]
    },
    {
      "cell_type": "code",
      "source": [
        "# Note 정리하는 프로그램\n",
        "\n",
        "class Note(object):\n",
        "  def __init__(self, content = None):\n",
        "    self.content = content\n",
        "\n",
        "  def write_content(self, content):\n",
        "    self.content = content\n",
        "\n",
        "  def remove_all(self):\n",
        "    self.content = \"\"\n",
        "\n",
        "  def __add__(self, other):\n",
        "    return self.content + other.content\n",
        "\n",
        "  def __str__(self):\n",
        "    return self.content\n",
        "\n",
        "\n",
        "\n",
        "class NoteBook(object):\n",
        "  def __init__(self, title):\n",
        "    self.title = title\n",
        "    self.page_number = 1\n",
        "    self. notes = {}\n",
        "\n",
        "  def add_note(self, note, page = 0):\n",
        "    if self.page_number < 300:\n",
        "      if page == 0:\n",
        "        self.notes[self.page_number] = note\n",
        "        self.page_number += 1\n",
        "      else:\n",
        "        self.notes = {page : note}\n",
        "        self.page_number += 1\n",
        "    else:\n",
        "      print(\"Page가 모두 채워졌습니다.\")\n",
        "\n",
        "  def remove_note(self, page_number):\n",
        "    if page_number in self.note.keys():\n",
        "      return self.notes.pop(page_number)\n",
        "    else:\n",
        "      print(\"해당 페이지는 존재하지 않습니다.\")\n",
        "\n",
        "  def get_number_of_pages(self):\n",
        "    return len(self.notes.keys())"
      ],
      "metadata": {
        "id": "EsDWKQ34pw7G"
      },
      "execution_count": 33,
      "outputs": []
    },
    {
      "cell_type": "code",
      "source": [
        "# Inheritance 상속\n",
        "\n",
        "class Person():\n",
        "  def __init__(self, name, age, gender):\n",
        "    self.name = name\n",
        "    self.age = age\n",
        "    self.gender = gender\n",
        "\n",
        "  def about_me(self):    # Method 선언\n",
        "    print(\"저의 이름은 \", self.name, \"이고, 제 나이는 \", str(self.age), \"살 입니다.\")\n",
        "\n",
        "  def __str__(self):\n",
        "    return \"저의 이름은 \", self.name, \"이고, 제 나이는 \", str(self.age), \"살 입니다.\""
      ],
      "metadata": {
        "id": "t6r-ytkXsRQ9"
      },
      "execution_count": 1,
      "outputs": []
    },
    {
      "cell_type": "code",
      "source": [
        "class Employee(Person):\n",
        "  def __init__(self, name, age, gender, salary, hire_date):\n",
        "    super().__init__(name, age, gender)    # 부모객체 사용\n",
        "    self.slary = salary\n",
        "    self.hire_date = hire_date\n",
        "\n",
        "  def do_work(self):\n",
        "    print(\"열심히 일을 합니다.\")\n",
        "\n",
        "  def about_me(self):\n",
        "    super().about_me()\n",
        "    print(\"제 급여는 \", self.salary, \"원 이고, 제 입사일은 \", self.hire_date, \" 입니다.\")"
      ],
      "metadata": {
        "id": "bF0zuuKz1VwC"
      },
      "execution_count": 2,
      "outputs": []
    },
    {
      "cell_type": "code",
      "source": [
        "KJW = Employee(\"Edwin\", \"25\", \"male\", \"500\", \"23년 3월\")"
      ],
      "metadata": {
        "id": "2aUX7oXr128W"
      },
      "execution_count": 3,
      "outputs": []
    },
    {
      "cell_type": "code",
      "source": [
        "KJW.do_work"
      ],
      "metadata": {
        "colab": {
          "base_uri": "https://localhost:8080/"
        },
        "id": "K0UUCxBK2rEu",
        "outputId": "8d8dbaf9-f3bc-44c6-9d45-4c7022185eb8"
      },
      "execution_count": 9,
      "outputs": [
        {
          "output_type": "execute_result",
          "data": {
            "text/plain": [
              "<bound method Employee.do_work of <__main__.Employee object at 0x7f7e81d15c50>>"
            ]
          },
          "metadata": {},
          "execution_count": 9
        }
      ]
    },
    {
      "cell_type": "code",
      "source": [
        ""
      ],
      "metadata": {
        "id": "LHBe1CkB2sHN"
      },
      "execution_count": null,
      "outputs": []
    }
  ]
}