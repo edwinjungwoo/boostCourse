{
  "nbformat": 4,
  "nbformat_minor": 0,
  "metadata": {
    "colab": {
      "name": "hihello_charseq.ipynb",
      "provenance": [],
      "collapsed_sections": []
    },
    "kernelspec": {
      "name": "python3",
      "display_name": "Python 3"
    },
    "language_info": {
      "name": "python"
    }
  },
  "cells": [
    {
      "cell_type": "code",
      "execution_count": 1,
      "metadata": {
        "id": "5yLg6SmpO0qH"
      },
      "outputs": [],
      "source": [
        "import torch\n",
        "import torch.optim as optim\n",
        "import numpy as np"
      ]
    },
    {
      "cell_type": "code",
      "source": [
        "torch.manual_seed(0)\n",
        "\n",
        "char_set = ['h', 'i', 'e', 'l', 'o']"
      ],
      "metadata": {
        "id": "Ah8OXFJAPB5-"
      },
      "execution_count": 2,
      "outputs": []
    },
    {
      "cell_type": "code",
      "source": [
        "# hyper parameters\n",
        "input_size = len(char_set)\n",
        "hidden_size = len(char_set)\n",
        "learning_rate = 0.1"
      ],
      "metadata": {
        "id": "9nFw_SdpPr9M"
      },
      "execution_count": 3,
      "outputs": []
    },
    {
      "cell_type": "code",
      "source": [
        "# data setting\n",
        "x_data = [[0, 1, 0, 2, 3, 3]]\n",
        "x_one_hot = [[[1, 0, 0, 0, 0],\n",
        "              [0, 1, 0, 0, 0],\n",
        "              [1, 0, 0, 0, 0],\n",
        "              [0, 0, 1, 0, 0],\n",
        "              [0, 0, 0, 1, 0],\n",
        "              [0, 0, 0, 1, 0]]]\n",
        "y_data = [[1, 0, 2, 3, 3, 4]]"
      ],
      "metadata": {
        "id": "kOMFoeg7QYGh"
      },
      "execution_count": 4,
      "outputs": []
    },
    {
      "cell_type": "code",
      "source": [
        "# transform as torch tensor variable\n",
        "X = torch.FloatTensor(x_one_hot)\n",
        "Y = torch.LongTensor(y_data)"
      ],
      "metadata": {
        "id": "PGYeRQONQZSc"
      },
      "execution_count": 5,
      "outputs": []
    },
    {
      "cell_type": "code",
      "source": [
        "# declare RNN\n",
        "rnn = torch.nn.RNN(input_size, hidden_size, batch_first=True)  # batch_first guarantees the order of output = (B, S, F)"
      ],
      "metadata": {
        "id": "-NYfCM2tQbEW"
      },
      "execution_count": 6,
      "outputs": []
    },
    {
      "cell_type": "code",
      "source": [
        "# loss & optimizer setting\n",
        "criterion = torch.nn.CrossEntropyLoss()\n",
        "optimizer = optim.Adam(rnn.parameters(), learning_rate)"
      ],
      "metadata": {
        "id": "EsChCT_WQvSS"
      },
      "execution_count": 7,
      "outputs": []
    },
    {
      "cell_type": "code",
      "source": [
        "# start training\n",
        "for i in range(100):\n",
        "    optimizer.zero_grad()    # 반드시 해줘야 함\n",
        "    outputs, _status = rnn(X)    # _status는 hidden\n",
        "    loss = criterion(outputs.view(-1, input_size), Y.view(-1))\n",
        "    loss.backward()\n",
        "    optimizer.step()\n",
        "\n",
        "    result = outputs.data.numpy().argmax(axis=2)\n",
        "    result_str = ''.join([char_set[c] for c in np.squeeze(result)])\n",
        "    print(i, \"loss: \", loss.item(), \"prediction: \", result, \"true Y: \", y_data, \"prediction str: \", result_str)"
      ],
      "metadata": {
        "colab": {
          "base_uri": "https://localhost:8080/"
        },
        "id": "-amOoOYoQw1m",
        "outputId": "6c9e98fb-627e-4224-f4d5-4e10972aec13"
      },
      "execution_count": 8,
      "outputs": [
        {
          "output_type": "stream",
          "name": "stdout",
          "text": [
            "0 loss:  1.7802648544311523 prediction:  [[1 1 1 1 1 1]] true Y:  [[1, 0, 2, 3, 3, 4]] prediction str:  iiiiii\n",
            "1 loss:  1.4931949377059937 prediction:  [[1 4 1 1 4 4]] true Y:  [[1, 0, 2, 3, 3, 4]] prediction str:  ioiioo\n",
            "2 loss:  1.3337111473083496 prediction:  [[1 3 2 3 1 4]] true Y:  [[1, 0, 2, 3, 3, 4]] prediction str:  ilelio\n",
            "3 loss:  1.2152944803237915 prediction:  [[2 3 2 3 3 3]] true Y:  [[1, 0, 2, 3, 3, 4]] prediction str:  elelll\n",
            "4 loss:  1.1131387948989868 prediction:  [[2 3 2 3 3 3]] true Y:  [[1, 0, 2, 3, 3, 4]] prediction str:  elelll\n",
            "5 loss:  1.0241864919662476 prediction:  [[2 3 2 3 3 4]] true Y:  [[1, 0, 2, 3, 3, 4]] prediction str:  elello\n",
            "6 loss:  0.9573140740394592 prediction:  [[2 3 2 3 3 4]] true Y:  [[1, 0, 2, 3, 3, 4]] prediction str:  elello\n",
            "7 loss:  0.9102001190185547 prediction:  [[2 0 2 3 3 4]] true Y:  [[1, 0, 2, 3, 3, 4]] prediction str:  ehello\n",
            "8 loss:  0.8731765747070312 prediction:  [[1 0 2 3 3 4]] true Y:  [[1, 0, 2, 3, 3, 4]] prediction str:  ihello\n",
            "9 loss:  0.8399617671966553 prediction:  [[1 0 2 3 3 4]] true Y:  [[1, 0, 2, 3, 3, 4]] prediction str:  ihello\n",
            "10 loss:  0.8088943958282471 prediction:  [[1 0 2 3 3 4]] true Y:  [[1, 0, 2, 3, 3, 4]] prediction str:  ihello\n",
            "11 loss:  0.7812860012054443 prediction:  [[1 0 2 3 3 4]] true Y:  [[1, 0, 2, 3, 3, 4]] prediction str:  ihello\n",
            "12 loss:  0.7585341930389404 prediction:  [[1 3 2 3 3 4]] true Y:  [[1, 0, 2, 3, 3, 4]] prediction str:  ilello\n",
            "13 loss:  0.7401286959648132 prediction:  [[1 3 2 3 3 4]] true Y:  [[1, 0, 2, 3, 3, 4]] prediction str:  ilello\n",
            "14 loss:  0.7243586182594299 prediction:  [[1 3 2 3 3 4]] true Y:  [[1, 0, 2, 3, 3, 4]] prediction str:  ilello\n",
            "15 loss:  0.7091224193572998 prediction:  [[1 3 2 3 3 4]] true Y:  [[1, 0, 2, 3, 3, 4]] prediction str:  ilello\n",
            "16 loss:  0.6929271817207336 prediction:  [[1 3 2 3 3 4]] true Y:  [[1, 0, 2, 3, 3, 4]] prediction str:  ilello\n",
            "17 loss:  0.6821203231811523 prediction:  [[1 3 2 3 3 4]] true Y:  [[1, 0, 2, 3, 3, 4]] prediction str:  ilello\n",
            "18 loss:  0.6735277771949768 prediction:  [[1 3 2 3 3 4]] true Y:  [[1, 0, 2, 3, 3, 4]] prediction str:  ilello\n",
            "19 loss:  0.6595445275306702 prediction:  [[1 3 2 3 3 4]] true Y:  [[1, 0, 2, 3, 3, 4]] prediction str:  ilello\n",
            "20 loss:  0.6534827947616577 prediction:  [[1 3 2 3 3 4]] true Y:  [[1, 0, 2, 3, 3, 4]] prediction str:  ilello\n",
            "21 loss:  0.6465461254119873 prediction:  [[1 3 2 3 3 4]] true Y:  [[1, 0, 2, 3, 3, 4]] prediction str:  ilello\n",
            "22 loss:  0.639818549156189 prediction:  [[1 3 2 3 3 4]] true Y:  [[1, 0, 2, 3, 3, 4]] prediction str:  ilello\n",
            "23 loss:  0.6381519436836243 prediction:  [[1 3 2 3 3 4]] true Y:  [[1, 0, 2, 3, 3, 4]] prediction str:  ilello\n",
            "24 loss:  0.6326725482940674 prediction:  [[1 3 2 3 3 4]] true Y:  [[1, 0, 2, 3, 3, 4]] prediction str:  ilello\n",
            "25 loss:  0.6256730556488037 prediction:  [[1 3 2 3 3 4]] true Y:  [[1, 0, 2, 3, 3, 4]] prediction str:  ilello\n",
            "26 loss:  0.6215081214904785 prediction:  [[1 3 2 3 3 4]] true Y:  [[1, 0, 2, 3, 3, 4]] prediction str:  ilello\n",
            "27 loss:  0.6167056560516357 prediction:  [[1 3 2 3 3 4]] true Y:  [[1, 0, 2, 3, 3, 4]] prediction str:  ilello\n",
            "28 loss:  0.609936535358429 prediction:  [[1 3 2 3 3 4]] true Y:  [[1, 0, 2, 3, 3, 4]] prediction str:  ilello\n",
            "29 loss:  0.6030198931694031 prediction:  [[1 3 2 3 3 4]] true Y:  [[1, 0, 2, 3, 3, 4]] prediction str:  ilello\n",
            "30 loss:  0.5992398858070374 prediction:  [[1 3 2 3 3 4]] true Y:  [[1, 0, 2, 3, 3, 4]] prediction str:  ilello\n",
            "31 loss:  0.5964339375495911 prediction:  [[1 3 2 3 3 4]] true Y:  [[1, 0, 2, 3, 3, 4]] prediction str:  ilello\n",
            "32 loss:  0.5916648507118225 prediction:  [[1 3 2 3 3 4]] true Y:  [[1, 0, 2, 3, 3, 4]] prediction str:  ilello\n",
            "33 loss:  0.5881564021110535 prediction:  [[1 3 2 3 3 4]] true Y:  [[1, 0, 2, 3, 3, 4]] prediction str:  ilello\n",
            "34 loss:  0.585434079170227 prediction:  [[1 3 2 3 3 4]] true Y:  [[1, 0, 2, 3, 3, 4]] prediction str:  ilello\n",
            "35 loss:  0.581319272518158 prediction:  [[1 3 2 3 3 4]] true Y:  [[1, 0, 2, 3, 3, 4]] prediction str:  ilello\n",
            "36 loss:  0.5761869549751282 prediction:  [[1 3 2 3 3 4]] true Y:  [[1, 0, 2, 3, 3, 4]] prediction str:  ilello\n",
            "37 loss:  0.5734921097755432 prediction:  [[1 3 2 3 3 4]] true Y:  [[1, 0, 2, 3, 3, 4]] prediction str:  ilello\n",
            "38 loss:  0.5727558732032776 prediction:  [[1 3 2 3 3 4]] true Y:  [[1, 0, 2, 3, 3, 4]] prediction str:  ilello\n",
            "39 loss:  0.5682087540626526 prediction:  [[1 3 2 3 3 4]] true Y:  [[1, 0, 2, 3, 3, 4]] prediction str:  ilello\n",
            "40 loss:  0.5656264424324036 prediction:  [[1 3 2 3 3 4]] true Y:  [[1, 0, 2, 3, 3, 4]] prediction str:  ilello\n",
            "41 loss:  0.5647333860397339 prediction:  [[1 3 2 3 3 4]] true Y:  [[1, 0, 2, 3, 3, 4]] prediction str:  ilello\n",
            "42 loss:  0.5629469752311707 prediction:  [[1 3 2 3 3 4]] true Y:  [[1, 0, 2, 3, 3, 4]] prediction str:  ilello\n",
            "43 loss:  0.5603768229484558 prediction:  [[1 3 2 3 3 4]] true Y:  [[1, 0, 2, 3, 3, 4]] prediction str:  ilello\n",
            "44 loss:  0.5588171482086182 prediction:  [[1 3 2 3 3 4]] true Y:  [[1, 0, 2, 3, 3, 4]] prediction str:  ilello\n",
            "45 loss:  0.5584633946418762 prediction:  [[1 3 2 3 3 4]] true Y:  [[1, 0, 2, 3, 3, 4]] prediction str:  ilello\n",
            "46 loss:  0.5565400123596191 prediction:  [[1 3 2 3 3 4]] true Y:  [[1, 0, 2, 3, 3, 4]] prediction str:  ilello\n",
            "47 loss:  0.5548031330108643 prediction:  [[1 3 2 3 3 4]] true Y:  [[1, 0, 2, 3, 3, 4]] prediction str:  ilello\n",
            "48 loss:  0.5542734265327454 prediction:  [[1 3 2 3 3 4]] true Y:  [[1, 0, 2, 3, 3, 4]] prediction str:  ilello\n",
            "49 loss:  0.553443968296051 prediction:  [[1 3 2 3 3 4]] true Y:  [[1, 0, 2, 3, 3, 4]] prediction str:  ilello\n",
            "50 loss:  0.552009642124176 prediction:  [[1 3 2 3 3 4]] true Y:  [[1, 0, 2, 3, 3, 4]] prediction str:  ilello\n",
            "51 loss:  0.5510938763618469 prediction:  [[1 3 2 3 3 4]] true Y:  [[1, 0, 2, 3, 3, 4]] prediction str:  ilello\n",
            "52 loss:  0.5506716370582581 prediction:  [[1 3 2 3 3 4]] true Y:  [[1, 0, 2, 3, 3, 4]] prediction str:  ilello\n",
            "53 loss:  0.5493642687797546 prediction:  [[1 3 2 3 3 4]] true Y:  [[1, 0, 2, 3, 3, 4]] prediction str:  ilello\n",
            "54 loss:  0.5483370423316956 prediction:  [[1 3 2 3 3 4]] true Y:  [[1, 0, 2, 3, 3, 4]] prediction str:  ilello\n",
            "55 loss:  0.5478050112724304 prediction:  [[1 3 2 3 3 4]] true Y:  [[1, 0, 2, 3, 3, 4]] prediction str:  ilello\n",
            "56 loss:  0.5469383597373962 prediction:  [[1 3 2 3 3 4]] true Y:  [[1, 0, 2, 3, 3, 4]] prediction str:  ilello\n",
            "57 loss:  0.5459226965904236 prediction:  [[1 3 2 3 3 4]] true Y:  [[1, 0, 2, 3, 3, 4]] prediction str:  ilello\n",
            "58 loss:  0.5454026460647583 prediction:  [[1 3 2 3 3 4]] true Y:  [[1, 0, 2, 3, 3, 4]] prediction str:  ilello\n",
            "59 loss:  0.5448522567749023 prediction:  [[1 3 2 3 3 4]] true Y:  [[1, 0, 2, 3, 3, 4]] prediction str:  ilello\n",
            "60 loss:  0.5439805388450623 prediction:  [[1 3 2 3 3 4]] true Y:  [[1, 0, 2, 3, 3, 4]] prediction str:  ilello\n",
            "61 loss:  0.5434584021568298 prediction:  [[1 3 2 3 3 4]] true Y:  [[1, 0, 2, 3, 3, 4]] prediction str:  ilello\n",
            "62 loss:  0.5429834723472595 prediction:  [[1 3 2 3 3 4]] true Y:  [[1, 0, 2, 3, 3, 4]] prediction str:  ilello\n",
            "63 loss:  0.5422742962837219 prediction:  [[1 3 2 3 3 4]] true Y:  [[1, 0, 2, 3, 3, 4]] prediction str:  ilello\n",
            "64 loss:  0.5417041778564453 prediction:  [[1 3 2 3 3 4]] true Y:  [[1, 0, 2, 3, 3, 4]] prediction str:  ilello\n",
            "65 loss:  0.5413309335708618 prediction:  [[1 3 2 3 3 4]] true Y:  [[1, 0, 2, 3, 3, 4]] prediction str:  ilello\n",
            "66 loss:  0.5407489538192749 prediction:  [[1 3 2 3 3 4]] true Y:  [[1, 0, 2, 3, 3, 4]] prediction str:  ilello\n",
            "67 loss:  0.5402577519416809 prediction:  [[1 3 2 3 3 4]] true Y:  [[1, 0, 2, 3, 3, 4]] prediction str:  ilello\n",
            "68 loss:  0.5399190783500671 prediction:  [[1 3 2 3 3 4]] true Y:  [[1, 0, 2, 3, 3, 4]] prediction str:  ilello\n",
            "69 loss:  0.5394624471664429 prediction:  [[1 3 2 3 3 4]] true Y:  [[1, 0, 2, 3, 3, 4]] prediction str:  ilello\n",
            "70 loss:  0.5390092134475708 prediction:  [[1 3 2 3 3 4]] true Y:  [[1, 0, 2, 3, 3, 4]] prediction str:  ilello\n",
            "71 loss:  0.5387027263641357 prediction:  [[1 3 2 3 3 4]] true Y:  [[1, 0, 2, 3, 3, 4]] prediction str:  ilello\n",
            "72 loss:  0.5383160710334778 prediction:  [[1 3 2 3 3 4]] true Y:  [[1, 0, 2, 3, 3, 4]] prediction str:  ilello\n",
            "73 loss:  0.5379176735877991 prediction:  [[1 3 2 3 3 4]] true Y:  [[1, 0, 2, 3, 3, 4]] prediction str:  ilello\n",
            "74 loss:  0.5376289486885071 prediction:  [[1 3 2 3 3 4]] true Y:  [[1, 0, 2, 3, 3, 4]] prediction str:  ilello\n",
            "75 loss:  0.5372946858406067 prediction:  [[1 3 2 3 3 4]] true Y:  [[1, 0, 2, 3, 3, 4]] prediction str:  ilello\n",
            "76 loss:  0.536936342716217 prediction:  [[1 3 2 3 3 4]] true Y:  [[1, 0, 2, 3, 3, 4]] prediction str:  ilello\n",
            "77 loss:  0.5366637706756592 prediction:  [[1 3 2 3 3 4]] true Y:  [[1, 0, 2, 3, 3, 4]] prediction str:  ilello\n",
            "78 loss:  0.5363661050796509 prediction:  [[1 3 2 3 3 4]] true Y:  [[1, 0, 2, 3, 3, 4]] prediction str:  ilello\n",
            "79 loss:  0.5360466837882996 prediction:  [[1 3 2 3 3 4]] true Y:  [[1, 0, 2, 3, 3, 4]] prediction str:  ilello\n",
            "80 loss:  0.535793125629425 prediction:  [[1 3 2 3 3 4]] true Y:  [[1, 0, 2, 3, 3, 4]] prediction str:  ilello\n",
            "81 loss:  0.5355224013328552 prediction:  [[1 3 2 3 3 4]] true Y:  [[1, 0, 2, 3, 3, 4]] prediction str:  ilello\n",
            "82 loss:  0.535235583782196 prediction:  [[1 3 2 3 3 4]] true Y:  [[1, 0, 2, 3, 3, 4]] prediction str:  ilello\n",
            "83 loss:  0.5349992513656616 prediction:  [[1 3 2 3 3 4]] true Y:  [[1, 0, 2, 3, 3, 4]] prediction str:  ilello\n",
            "84 loss:  0.5347511172294617 prediction:  [[1 3 2 3 3 4]] true Y:  [[1, 0, 2, 3, 3, 4]] prediction str:  ilello\n",
            "85 loss:  0.5344937443733215 prediction:  [[1 3 2 3 3 4]] true Y:  [[1, 0, 2, 3, 3, 4]] prediction str:  ilello\n",
            "86 loss:  0.534275472164154 prediction:  [[1 3 2 3 3 4]] true Y:  [[1, 0, 2, 3, 3, 4]] prediction str:  ilello\n",
            "87 loss:  0.534046471118927 prediction:  [[1 3 2 3 3 4]] true Y:  [[1, 0, 2, 3, 3, 4]] prediction str:  ilello\n",
            "88 loss:  0.5338149666786194 prediction:  [[1 3 2 3 3 4]] true Y:  [[1, 0, 2, 3, 3, 4]] prediction str:  ilello\n",
            "89 loss:  0.5336135625839233 prediction:  [[1 3 2 3 3 4]] true Y:  [[1, 0, 2, 3, 3, 4]] prediction str:  ilello\n",
            "90 loss:  0.5334025025367737 prediction:  [[1 3 2 3 3 4]] true Y:  [[1, 0, 2, 3, 3, 4]] prediction str:  ilello\n",
            "91 loss:  0.5331951379776001 prediction:  [[1 3 2 3 3 4]] true Y:  [[1, 0, 2, 3, 3, 4]] prediction str:  ilello\n",
            "92 loss:  0.5330095291137695 prediction:  [[1 3 2 3 3 4]] true Y:  [[1, 0, 2, 3, 3, 4]] prediction str:  ilello\n",
            "93 loss:  0.5328158140182495 prediction:  [[1 3 2 3 3 4]] true Y:  [[1, 0, 2, 3, 3, 4]] prediction str:  ilello\n",
            "94 loss:  0.5326293110847473 prediction:  [[1 3 2 3 3 4]] true Y:  [[1, 0, 2, 3, 3, 4]] prediction str:  ilello\n",
            "95 loss:  0.5324583053588867 prediction:  [[1 3 2 3 3 4]] true Y:  [[1, 0, 2, 3, 3, 4]] prediction str:  ilello\n",
            "96 loss:  0.5322802662849426 prediction:  [[1 3 2 3 3 4]] true Y:  [[1, 0, 2, 3, 3, 4]] prediction str:  ilello\n",
            "97 loss:  0.5321123600006104 prediction:  [[1 3 2 3 3 4]] true Y:  [[1, 0, 2, 3, 3, 4]] prediction str:  ilello\n",
            "98 loss:  0.5319532752037048 prediction:  [[1 3 2 3 3 4]] true Y:  [[1, 0, 2, 3, 3, 4]] prediction str:  ilello\n",
            "99 loss:  0.5317899584770203 prediction:  [[1 3 2 3 3 4]] true Y:  [[1, 0, 2, 3, 3, 4]] prediction str:  ilello\n"
          ]
        }
      ]
    },
    {
      "cell_type": "code",
      "source": [
        "# character sequence example\n",
        "sample = \" if you want you\"\n",
        "\n",
        "char_set = list(set(sample))\n",
        "char_dic = {c: i for i, c in enumerate(char_set)}\n",
        "print(char_dic)"
      ],
      "metadata": {
        "colab": {
          "base_uri": "https://localhost:8080/"
        },
        "id": "M98MEM2lQz_7",
        "outputId": "a692ed98-38b5-41c2-ff83-6886113b6a3a"
      },
      "execution_count": 9,
      "outputs": [
        {
          "output_type": "stream",
          "name": "stdout",
          "text": [
            "{'y': 0, 'f': 1, 'u': 2, 'a': 3, 't': 4, 'n': 5, 'w': 6, 'o': 7, ' ': 8, 'i': 9}\n"
          ]
        }
      ]
    },
    {
      "cell_type": "code",
      "source": [
        "# hyper parameters\n",
        "dic_size = len(char_dic)\n",
        "hidden_size = len(char_dic)\n",
        "learning_rate = 0.1"
      ],
      "metadata": {
        "id": "ogoQoMYlRkzN"
      },
      "execution_count": 14,
      "outputs": []
    },
    {
      "cell_type": "code",
      "source": [
        "# data setting\n",
        "sample_idx = [char_dic[c] for c in sample]\n",
        "x_data = [sample_idx[:-1]]    # 마지막 제외\n",
        "x_one_hot = [np.eye(dic_size)[x] for x in x_data]\n",
        "y_data = [sample_idx[1:]]    # 처음 제외"
      ],
      "metadata": {
        "id": "c-8ev13JRqYC"
      },
      "execution_count": 15,
      "outputs": []
    },
    {
      "cell_type": "code",
      "source": [
        "# transform as torch tensor variable\n",
        "X = torch.FloatTensor(x_one_hot)\n",
        "Y = torch.LongTensor(y_data)"
      ],
      "metadata": {
        "colab": {
          "base_uri": "https://localhost:8080/"
        },
        "id": "llSJRrM-RrNq",
        "outputId": "a0cf5124-c83d-4034-fd21-1dbebaef36c8"
      },
      "execution_count": 16,
      "outputs": [
        {
          "output_type": "stream",
          "name": "stderr",
          "text": [
            "/usr/local/lib/python3.7/dist-packages/ipykernel_launcher.py:2: UserWarning: Creating a tensor from a list of numpy.ndarrays is extremely slow. Please consider converting the list to a single numpy.ndarray with numpy.array() before converting to a tensor. (Triggered internally at  ../torch/csrc/utils/tensor_new.cpp:210.)\n",
            "  \n"
          ]
        }
      ]
    },
    {
      "cell_type": "code",
      "source": [
        "# declare RNN\n",
        "rnn = torch.nn.RNN(dic_size, hidden_size, batch_first=True)"
      ],
      "metadata": {
        "id": "SQRNPHlyRtYh"
      },
      "execution_count": 17,
      "outputs": []
    },
    {
      "cell_type": "code",
      "source": [
        "# loss & optimizer setting\n",
        "criterion = torch.nn.CrossEntropyLoss()\n",
        "optimizer = optim.Adam(rnn.parameters(), learning_rate)"
      ],
      "metadata": {
        "id": "Xn54i1GnRujx"
      },
      "execution_count": 18,
      "outputs": []
    },
    {
      "cell_type": "code",
      "source": [
        "# start training\n",
        "for i in range(50):\n",
        "    optimizer.zero_grad()\n",
        "    outputs, _status = rnn(X)\n",
        "    loss = criterion(outputs.view(-1, dic_size), Y.view(-1))\n",
        "    loss.backward()\n",
        "    optimizer.step()\n",
        "\n",
        "    result = outputs.data.numpy().argmax(axis=2)\n",
        "    result_str = ''.join([char_set[c] for c in np.squeeze(result)])\n",
        "    print(i, \"loss: \", loss.item(), \"prediction: \", result, \"true Y: \", y_data, \"prediction str: \", result_str)"
      ],
      "metadata": {
        "colab": {
          "base_uri": "https://localhost:8080/"
        },
        "id": "nXwcFMP_RwHb",
        "outputId": "629c03fa-5c64-4a85-ab8a-aaca2632e557"
      },
      "execution_count": 19,
      "outputs": [
        {
          "output_type": "stream",
          "name": "stdout",
          "text": [
            "0 loss:  2.3114099502563477 prediction:  [[9 7 3 1 8 8 3 8 3 3 8 9 3 8 8]] true Y:  [[9, 1, 8, 0, 7, 2, 8, 6, 3, 5, 4, 8, 0, 7, 2]] prediction str:  ioaf  a aa ia  \n",
            "1 loss:  2.021831750869751 prediction:  [[6 8 8 6 8 8 8 6 8 8 4 8 4 8 8]] true Y:  [[9, 1, 8, 0, 7, 2, 8, 6, 3, 5, 4, 8, 0, 7, 2]] prediction str:  w  w   w  t t  \n",
            "2 loss:  1.746227741241455 prediction:  [[0 8 8 0 7 2 8 6 8 8 4 7 0 7 2]] true Y:  [[9, 1, 8, 0, 7, 2, 8, 6, 3, 5, 4, 8, 0, 7, 2]] prediction str:  y  you w  toyou\n",
            "3 loss:  1.5895706415176392 prediction:  [[0 8 8 0 7 2 8 0 3 5 4 7 0 7 2]] true Y:  [[9, 1, 8, 0, 7, 2, 8, 6, 3, 5, 4, 8, 0, 7, 2]] prediction str:  y  you yantoyou\n",
            "4 loss:  1.47874116897583 prediction:  [[0 1 8 0 7 2 8 6 3 5 4 8 0 7 2]] true Y:  [[9, 1, 8, 0, 7, 2, 8, 6, 3, 5, 4, 8, 0, 7, 2]] prediction str:  yf you want you\n",
            "5 loss:  1.3850057125091553 prediction:  [[0 1 8 0 7 2 8 6 8 5 4 8 0 7 2]] true Y:  [[9, 1, 8, 0, 7, 2, 8, 6, 3, 5, 4, 8, 0, 7, 2]] prediction str:  yf you w nt you\n",
            "6 loss:  1.3035533428192139 prediction:  [[0 1 8 0 7 2 8 6 8 5 4 8 0 7 2]] true Y:  [[9, 1, 8, 0, 7, 2, 8, 6, 3, 5, 4, 8, 0, 7, 2]] prediction str:  yf you w nt you\n",
            "7 loss:  1.2250416278839111 prediction:  [[9 1 8 0 7 2 8 6 8 5 4 8 0 7 2]] true Y:  [[9, 1, 8, 0, 7, 2, 8, 6, 3, 5, 4, 8, 0, 7, 2]] prediction str:  if you w nt you\n",
            "8 loss:  1.1734009981155396 prediction:  [[9 1 8 0 7 2 8 6 8 5 4 8 0 7 2]] true Y:  [[9, 1, 8, 0, 7, 2, 8, 6, 3, 5, 4, 8, 0, 7, 2]] prediction str:  if you w nt you\n",
            "9 loss:  1.1634094715118408 prediction:  [[9 1 8 0 7 2 8 6 8 5 4 8 0 7 2]] true Y:  [[9, 1, 8, 0, 7, 2, 8, 6, 3, 5, 4, 8, 0, 7, 2]] prediction str:  if you w nt you\n",
            "10 loss:  1.0813184976577759 prediction:  [[9 1 8 0 7 2 8 6 8 5 4 8 0 7 2]] true Y:  [[9, 1, 8, 0, 7, 2, 8, 6, 3, 5, 4, 8, 0, 7, 2]] prediction str:  if you w nt you\n",
            "11 loss:  1.0653659105300903 prediction:  [[9 1 8 0 7 2 8 6 3 5 4 8 0 7 2]] true Y:  [[9, 1, 8, 0, 7, 2, 8, 6, 3, 5, 4, 8, 0, 7, 2]] prediction str:  if you want you\n",
            "12 loss:  1.046805739402771 prediction:  [[9 1 8 0 7 2 8 6 3 5 4 8 0 7 2]] true Y:  [[9, 1, 8, 0, 7, 2, 8, 6, 3, 5, 4, 8, 0, 7, 2]] prediction str:  if you want you\n",
            "13 loss:  1.0105654001235962 prediction:  [[9 1 8 0 7 2 8 6 3 5 4 8 0 7 2]] true Y:  [[9, 1, 8, 0, 7, 2, 8, 6, 3, 5, 4, 8, 0, 7, 2]] prediction str:  if you want you\n",
            "14 loss:  0.9820154905319214 prediction:  [[9 1 8 0 7 2 8 6 3 5 4 8 0 7 2]] true Y:  [[9, 1, 8, 0, 7, 2, 8, 6, 3, 5, 4, 8, 0, 7, 2]] prediction str:  if you want you\n",
            "15 loss:  0.9808078408241272 prediction:  [[9 1 8 0 7 2 8 6 3 5 4 8 0 7 2]] true Y:  [[9, 1, 8, 0, 7, 2, 8, 6, 3, 5, 4, 8, 0, 7, 2]] prediction str:  if you want you\n",
            "16 loss:  0.9517920613288879 prediction:  [[9 1 8 0 7 2 8 6 3 5 4 8 0 7 2]] true Y:  [[9, 1, 8, 0, 7, 2, 8, 6, 3, 5, 4, 8, 0, 7, 2]] prediction str:  if you want you\n",
            "17 loss:  0.935303807258606 prediction:  [[9 1 8 0 7 2 8 6 3 5 4 8 0 7 2]] true Y:  [[9, 1, 8, 0, 7, 2, 8, 6, 3, 5, 4, 8, 0, 7, 2]] prediction str:  if you want you\n",
            "18 loss:  0.9289205074310303 prediction:  [[9 1 8 0 7 2 8 6 3 5 4 8 0 7 2]] true Y:  [[9, 1, 8, 0, 7, 2, 8, 6, 3, 5, 4, 8, 0, 7, 2]] prediction str:  if you want you\n",
            "19 loss:  0.9182634949684143 prediction:  [[9 1 8 0 7 2 8 6 3 5 4 8 0 7 2]] true Y:  [[9, 1, 8, 0, 7, 2, 8, 6, 3, 5, 4, 8, 0, 7, 2]] prediction str:  if you want you\n",
            "20 loss:  0.9040825963020325 prediction:  [[9 1 8 0 7 2 8 6 3 5 4 8 0 7 2]] true Y:  [[9, 1, 8, 0, 7, 2, 8, 6, 3, 5, 4, 8, 0, 7, 2]] prediction str:  if you want you\n",
            "21 loss:  0.8929736614227295 prediction:  [[9 1 8 0 7 2 8 6 3 5 4 8 0 7 2]] true Y:  [[9, 1, 8, 0, 7, 2, 8, 6, 3, 5, 4, 8, 0, 7, 2]] prediction str:  if you want you\n",
            "22 loss:  0.8856680393218994 prediction:  [[9 1 8 0 7 2 8 6 3 5 4 8 0 7 2]] true Y:  [[9, 1, 8, 0, 7, 2, 8, 6, 3, 5, 4, 8, 0, 7, 2]] prediction str:  if you want you\n",
            "23 loss:  0.8813869953155518 prediction:  [[9 1 8 0 7 2 8 6 3 5 4 8 0 7 2]] true Y:  [[9, 1, 8, 0, 7, 2, 8, 6, 3, 5, 4, 8, 0, 7, 2]] prediction str:  if you want you\n",
            "24 loss:  0.8773289918899536 prediction:  [[9 1 8 0 7 2 8 6 3 5 4 8 0 7 2]] true Y:  [[9, 1, 8, 0, 7, 2, 8, 6, 3, 5, 4, 8, 0, 7, 2]] prediction str:  if you want you\n",
            "25 loss:  0.8718214631080627 prediction:  [[9 1 8 0 7 2 8 6 3 5 4 8 0 7 2]] true Y:  [[9, 1, 8, 0, 7, 2, 8, 6, 3, 5, 4, 8, 0, 7, 2]] prediction str:  if you want you\n",
            "26 loss:  0.8661410212516785 prediction:  [[9 1 8 0 7 2 8 6 3 5 4 8 0 7 2]] true Y:  [[9, 1, 8, 0, 7, 2, 8, 6, 3, 5, 4, 8, 0, 7, 2]] prediction str:  if you want you\n",
            "27 loss:  0.8619510531425476 prediction:  [[9 1 8 0 7 2 8 6 3 5 4 8 0 7 2]] true Y:  [[9, 1, 8, 0, 7, 2, 8, 6, 3, 5, 4, 8, 0, 7, 2]] prediction str:  if you want you\n",
            "28 loss:  0.859010636806488 prediction:  [[9 1 8 0 7 2 8 6 3 5 4 8 0 7 2]] true Y:  [[9, 1, 8, 0, 7, 2, 8, 6, 3, 5, 4, 8, 0, 7, 2]] prediction str:  if you want you\n",
            "29 loss:  0.856378436088562 prediction:  [[9 1 8 0 7 2 8 6 3 5 4 8 0 7 2]] true Y:  [[9, 1, 8, 0, 7, 2, 8, 6, 3, 5, 4, 8, 0, 7, 2]] prediction str:  if you want you\n",
            "30 loss:  0.8534568548202515 prediction:  [[9 1 8 0 7 2 8 6 3 5 4 8 0 7 2]] true Y:  [[9, 1, 8, 0, 7, 2, 8, 6, 3, 5, 4, 8, 0, 7, 2]] prediction str:  if you want you\n",
            "31 loss:  0.8501473069190979 prediction:  [[9 1 8 0 7 2 8 6 3 5 4 8 0 7 2]] true Y:  [[9, 1, 8, 0, 7, 2, 8, 6, 3, 5, 4, 8, 0, 7, 2]] prediction str:  if you want you\n",
            "32 loss:  0.846813440322876 prediction:  [[9 1 8 0 7 2 8 6 3 5 4 8 0 7 2]] true Y:  [[9, 1, 8, 0, 7, 2, 8, 6, 3, 5, 4, 8, 0, 7, 2]] prediction str:  if you want you\n",
            "33 loss:  0.8440656065940857 prediction:  [[9 1 8 0 7 2 8 6 3 5 4 8 0 7 2]] true Y:  [[9, 1, 8, 0, 7, 2, 8, 6, 3, 5, 4, 8, 0, 7, 2]] prediction str:  if you want you\n",
            "34 loss:  0.842144250869751 prediction:  [[9 1 8 0 7 2 8 6 3 5 4 8 0 7 2]] true Y:  [[9, 1, 8, 0, 7, 2, 8, 6, 3, 5, 4, 8, 0, 7, 2]] prediction str:  if you want you\n",
            "35 loss:  0.8403761982917786 prediction:  [[9 1 8 0 7 2 8 6 3 5 4 8 0 7 2]] true Y:  [[9, 1, 8, 0, 7, 2, 8, 6, 3, 5, 4, 8, 0, 7, 2]] prediction str:  if you want you\n",
            "36 loss:  0.838333249092102 prediction:  [[9 1 8 0 7 2 8 6 3 5 4 8 0 7 2]] true Y:  [[9, 1, 8, 0, 7, 2, 8, 6, 3, 5, 4, 8, 0, 7, 2]] prediction str:  if you want you\n",
            "37 loss:  0.8366260528564453 prediction:  [[9 1 8 0 7 2 8 6 3 5 4 8 0 7 2]] true Y:  [[9, 1, 8, 0, 7, 2, 8, 6, 3, 5, 4, 8, 0, 7, 2]] prediction str:  if you want you\n",
            "38 loss:  0.8354482650756836 prediction:  [[9 1 8 0 7 2 8 6 3 5 4 8 0 7 2]] true Y:  [[9, 1, 8, 0, 7, 2, 8, 6, 3, 5, 4, 8, 0, 7, 2]] prediction str:  if you want you\n",
            "39 loss:  0.8344644904136658 prediction:  [[9 1 8 0 7 2 8 6 3 5 4 8 0 7 2]] true Y:  [[9, 1, 8, 0, 7, 2, 8, 6, 3, 5, 4, 8, 0, 7, 2]] prediction str:  if you want you\n",
            "40 loss:  0.8334025740623474 prediction:  [[9 1 8 0 7 2 8 6 3 5 4 8 0 7 2]] true Y:  [[9, 1, 8, 0, 7, 2, 8, 6, 3, 5, 4, 8, 0, 7, 2]] prediction str:  if you want you\n",
            "41 loss:  0.8322163224220276 prediction:  [[9 1 8 0 7 2 8 6 3 5 4 8 0 7 2]] true Y:  [[9, 1, 8, 0, 7, 2, 8, 6, 3, 5, 4, 8, 0, 7, 2]] prediction str:  if you want you\n",
            "42 loss:  0.8310468196868896 prediction:  [[9 1 8 0 7 2 8 6 3 5 4 8 0 7 2]] true Y:  [[9, 1, 8, 0, 7, 2, 8, 6, 3, 5, 4, 8, 0, 7, 2]] prediction str:  if you want you\n",
            "43 loss:  0.8300935626029968 prediction:  [[9 1 8 0 7 2 8 6 3 5 4 8 0 7 2]] true Y:  [[9, 1, 8, 0, 7, 2, 8, 6, 3, 5, 4, 8, 0, 7, 2]] prediction str:  if you want you\n",
            "44 loss:  0.8293671011924744 prediction:  [[9 1 8 0 7 2 8 6 3 5 4 8 0 7 2]] true Y:  [[9, 1, 8, 0, 7, 2, 8, 6, 3, 5, 4, 8, 0, 7, 2]] prediction str:  if you want you\n",
            "45 loss:  0.8285992741584778 prediction:  [[9 1 8 0 7 2 8 6 3 5 4 8 0 7 2]] true Y:  [[9, 1, 8, 0, 7, 2, 8, 6, 3, 5, 4, 8, 0, 7, 2]] prediction str:  if you want you\n",
            "46 loss:  0.8277056813240051 prediction:  [[9 1 8 0 7 2 8 6 3 5 4 8 0 7 2]] true Y:  [[9, 1, 8, 0, 7, 2, 8, 6, 3, 5, 4, 8, 0, 7, 2]] prediction str:  if you want you\n",
            "47 loss:  0.8269109129905701 prediction:  [[9 1 8 0 7 2 8 6 3 5 4 8 0 7 2]] true Y:  [[9, 1, 8, 0, 7, 2, 8, 6, 3, 5, 4, 8, 0, 7, 2]] prediction str:  if you want you\n",
            "48 loss:  0.826285183429718 prediction:  [[9 1 8 0 7 2 8 6 3 5 4 8 0 7 2]] true Y:  [[9, 1, 8, 0, 7, 2, 8, 6, 3, 5, 4, 8, 0, 7, 2]] prediction str:  if you want you\n",
            "49 loss:  0.825710654258728 prediction:  [[9 1 8 0 7 2 8 6 3 5 4 8 0 7 2]] true Y:  [[9, 1, 8, 0, 7, 2, 8, 6, 3, 5, 4, 8, 0, 7, 2]] prediction str:  if you want you\n"
          ]
        }
      ]
    },
    {
      "cell_type": "code",
      "source": [
        ""
      ],
      "metadata": {
        "id": "rKON2sKXRxdj"
      },
      "execution_count": null,
      "outputs": []
    }
  ]
}